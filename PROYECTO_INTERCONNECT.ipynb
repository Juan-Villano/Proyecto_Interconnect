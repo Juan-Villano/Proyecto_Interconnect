{
 "cells": [
  {
   "cell_type": "markdown",
   "metadata": {},
   "source": [
    "## Introducción\n",
    "\n",
    "\n",
    "El operador de telecomunicaciones Interconnect enfrenta el desafío de retener a sus clientes en un mercado altamente competitivo. La tasa de cancelación (o \"churn\") es un indicador clave para la empresa, ya que un aumento en el churn puede reflejar insatisfacción del cliente y potenciales pérdidas de ingresos. Al predecir la probabilidad de cancelación de los clientes, Interconnect puede identificar a aquellos en riesgo y ofrecer incentivos o beneficios que promuevan su lealtad, como descuentos, códigos promocionales y planes especiales.\n",
    "\n",
    "En este proyecto, se realizará un análisis detallado de los datos disponibles para comprender los factores que afectan la tasa de churn. Además, se desarrollará un modelo de predicción de cancelación utilizando técnicas de aprendizaje automático."
   ]
  },
  {
   "cell_type": "markdown",
   "metadata": {},
   "source": [
    "## Objetivos del Proyecto\n",
    "\n",
    "\n",
    "- Comprender los factores que influyen en la cancelación de clientes: Identificar las características y servicios que aumentan o disminuyen la probabilidad de que un cliente cancele su contrato.\n",
    "\n",
    "- Analizar patrones y tendencias en los datos de clientes y contratos: Realizar un análisis exploratorio de los datos para descubrir tendencias y patrones que puedan ser útiles en la modelización del churn.\n",
    "\n",
    "- Construir un modelo de predicción de cancelación: Desarrollar un modelo de clasificación que identifique a los clientes que tienen alta probabilidad de churn.\n",
    "Ofrecer recomendaciones al equipo de marketing: Con base en el análisis y modelo, proporcionar recomendaciones de estrategias de retención para los clientes en riesgo de churn.\n",
    "\n",
    "- Ofrecer recomendaciones al equipo de marketing: Con base en el análisis y modelo, proporcionar recomendaciones de estrategias de retención para los clientes en riesgo de churn."
   ]
  },
  {
   "cell_type": "markdown",
   "metadata": {},
   "source": [
    "## Plan de trabajo"
   ]
  },
  {
   "cell_type": "markdown",
   "metadata": {},
   "source": [
    "## EDA\n",
    "\n",
    "Iniciamos con el análisis exploratorio de datos."
   ]
  },
  {
   "cell_type": "markdown",
   "metadata": {},
   "source": [
    "### CARGA DE DATOS\n"
   ]
  },
  {
   "cell_type": "code",
   "execution_count": 60,
   "metadata": {},
   "outputs": [],
   "source": [
    "import pandas as pd\n",
    "import seaborn as sns\n",
    "import numpy as np\n",
    "import matplotlib.pyplot as plt\n",
    "from sklearn.ensemble import RandomForestClassifier\n",
    "from sklearn.tree import DecisionTreeClassifier\n",
    "from sklearn.model_selection import train_test_split, cross_val_predict\n",
    "from sklearn.preprocessing import StandardScaler\n",
    "from sklearn.linear_model import LogisticRegression\n",
    "from sklearn.metrics import f1_score, roc_auc_score, precision_score, accuracy_score\n",
    "from catboost import CatBoostClassifier\n",
    "\n",
    "# Cargar archivos CSV\n",
    "contract = pd.read_csv(\"datasets/contract.csv\")\n",
    "personal = pd.read_csv(\"datasets/personal.csv\")\n",
    "internet = pd.read_csv(\"datasets/internet.csv\")\n",
    "phone = pd.read_csv(\"datasets/phone.csv\")"
   ]
  },
  {
   "cell_type": "markdown",
   "metadata": {},
   "source": [
    "### ANÁLISIS INICIAL DE CADA DATAFRAME"
   ]
  },
  {
   "cell_type": "code",
   "execution_count": 61,
   "metadata": {},
   "outputs": [],
   "source": [
    "def analisis(df):\n",
    "    # Mostrar primeras filas del DataFrame\n",
    "    print(\"Primeras filas del DataFrame:\")\n",
    "    display(df.head())\n",
    "    # Información general del DataFrame\n",
    "    print(\"\\nInformación general:\")\n",
    "    print(df.info())\n",
    "    print(\"\\nForma del DataFrame:\", df.shape) \n",
    "    # Verificar valores duplicados\n",
    "    num_duplicates = df.duplicated().sum()\n",
    "    print(f\"\\nCantidad de filas duplicadas: {num_duplicates}\")   \n",
    "    # Valores nulos\n",
    "    print(\"\\nCantidad de valores nulos por columna:\")\n",
    "    print(df.isnull().sum())   \n",
    "    # Estadísticas descriptivas generales\n",
    "    print(\"\\nEstadísticas descriptivas (variables numéricas):\")\n",
    "    display(df.describe())  \n",
    "    # Estadísticas descriptivas para variables categóricas\n",
    "    print(\"\\nEstadísticas descriptivas (variables categóricas):\")\n",
    "    display(df.describe(include=['O']))  # 'O' selecciona columnas de tipo 'object'   "
   ]
  },
  {
   "cell_type": "code",
   "execution_count": 62,
   "metadata": {},
   "outputs": [
    {
     "name": "stdout",
     "output_type": "stream",
     "text": [
      "Primeras filas del DataFrame:\n"
     ]
    },
    {
     "data": {
      "text/html": [
       "<div>\n",
       "<style scoped>\n",
       "    .dataframe tbody tr th:only-of-type {\n",
       "        vertical-align: middle;\n",
       "    }\n",
       "\n",
       "    .dataframe tbody tr th {\n",
       "        vertical-align: top;\n",
       "    }\n",
       "\n",
       "    .dataframe thead th {\n",
       "        text-align: right;\n",
       "    }\n",
       "</style>\n",
       "<table border=\"1\" class=\"dataframe\">\n",
       "  <thead>\n",
       "    <tr style=\"text-align: right;\">\n",
       "      <th></th>\n",
       "      <th>customerID</th>\n",
       "      <th>BeginDate</th>\n",
       "      <th>EndDate</th>\n",
       "      <th>Type</th>\n",
       "      <th>PaperlessBilling</th>\n",
       "      <th>PaymentMethod</th>\n",
       "      <th>MonthlyCharges</th>\n",
       "      <th>TotalCharges</th>\n",
       "    </tr>\n",
       "  </thead>\n",
       "  <tbody>\n",
       "    <tr>\n",
       "      <th>0</th>\n",
       "      <td>7590-VHVEG</td>\n",
       "      <td>2020-01-01</td>\n",
       "      <td>No</td>\n",
       "      <td>Month-to-month</td>\n",
       "      <td>Yes</td>\n",
       "      <td>Electronic check</td>\n",
       "      <td>29.85</td>\n",
       "      <td>29.85</td>\n",
       "    </tr>\n",
       "    <tr>\n",
       "      <th>1</th>\n",
       "      <td>5575-GNVDE</td>\n",
       "      <td>2017-04-01</td>\n",
       "      <td>No</td>\n",
       "      <td>One year</td>\n",
       "      <td>No</td>\n",
       "      <td>Mailed check</td>\n",
       "      <td>56.95</td>\n",
       "      <td>1889.5</td>\n",
       "    </tr>\n",
       "    <tr>\n",
       "      <th>2</th>\n",
       "      <td>3668-QPYBK</td>\n",
       "      <td>2019-10-01</td>\n",
       "      <td>2019-12-01 00:00:00</td>\n",
       "      <td>Month-to-month</td>\n",
       "      <td>Yes</td>\n",
       "      <td>Mailed check</td>\n",
       "      <td>53.85</td>\n",
       "      <td>108.15</td>\n",
       "    </tr>\n",
       "    <tr>\n",
       "      <th>3</th>\n",
       "      <td>7795-CFOCW</td>\n",
       "      <td>2016-05-01</td>\n",
       "      <td>No</td>\n",
       "      <td>One year</td>\n",
       "      <td>No</td>\n",
       "      <td>Bank transfer (automatic)</td>\n",
       "      <td>42.30</td>\n",
       "      <td>1840.75</td>\n",
       "    </tr>\n",
       "    <tr>\n",
       "      <th>4</th>\n",
       "      <td>9237-HQITU</td>\n",
       "      <td>2019-09-01</td>\n",
       "      <td>2019-11-01 00:00:00</td>\n",
       "      <td>Month-to-month</td>\n",
       "      <td>Yes</td>\n",
       "      <td>Electronic check</td>\n",
       "      <td>70.70</td>\n",
       "      <td>151.65</td>\n",
       "    </tr>\n",
       "  </tbody>\n",
       "</table>\n",
       "</div>"
      ],
      "text/plain": [
       "   customerID   BeginDate              EndDate            Type  \\\n",
       "0  7590-VHVEG  2020-01-01                   No  Month-to-month   \n",
       "1  5575-GNVDE  2017-04-01                   No        One year   \n",
       "2  3668-QPYBK  2019-10-01  2019-12-01 00:00:00  Month-to-month   \n",
       "3  7795-CFOCW  2016-05-01                   No        One year   \n",
       "4  9237-HQITU  2019-09-01  2019-11-01 00:00:00  Month-to-month   \n",
       "\n",
       "  PaperlessBilling              PaymentMethod  MonthlyCharges TotalCharges  \n",
       "0              Yes           Electronic check           29.85        29.85  \n",
       "1               No               Mailed check           56.95       1889.5  \n",
       "2              Yes               Mailed check           53.85       108.15  \n",
       "3               No  Bank transfer (automatic)           42.30      1840.75  \n",
       "4              Yes           Electronic check           70.70       151.65  "
      ]
     },
     "metadata": {},
     "output_type": "display_data"
    },
    {
     "name": "stdout",
     "output_type": "stream",
     "text": [
      "\n",
      "Información general:\n",
      "<class 'pandas.core.frame.DataFrame'>\n",
      "RangeIndex: 7043 entries, 0 to 7042\n",
      "Data columns (total 8 columns):\n",
      " #   Column            Non-Null Count  Dtype  \n",
      "---  ------            --------------  -----  \n",
      " 0   customerID        7043 non-null   object \n",
      " 1   BeginDate         7043 non-null   object \n",
      " 2   EndDate           7043 non-null   object \n",
      " 3   Type              7043 non-null   object \n",
      " 4   PaperlessBilling  7043 non-null   object \n",
      " 5   PaymentMethod     7043 non-null   object \n",
      " 6   MonthlyCharges    7043 non-null   float64\n",
      " 7   TotalCharges      7043 non-null   object \n",
      "dtypes: float64(1), object(7)\n",
      "memory usage: 440.3+ KB\n",
      "None\n",
      "\n",
      "Forma del DataFrame: (7043, 8)\n",
      "\n",
      "Cantidad de filas duplicadas: 0\n",
      "\n",
      "Cantidad de valores nulos por columna:\n",
      "customerID          0\n",
      "BeginDate           0\n",
      "EndDate             0\n",
      "Type                0\n",
      "PaperlessBilling    0\n",
      "PaymentMethod       0\n",
      "MonthlyCharges      0\n",
      "TotalCharges        0\n",
      "dtype: int64\n",
      "\n",
      "Estadísticas descriptivas (variables numéricas):\n"
     ]
    },
    {
     "data": {
      "text/html": [
       "<div>\n",
       "<style scoped>\n",
       "    .dataframe tbody tr th:only-of-type {\n",
       "        vertical-align: middle;\n",
       "    }\n",
       "\n",
       "    .dataframe tbody tr th {\n",
       "        vertical-align: top;\n",
       "    }\n",
       "\n",
       "    .dataframe thead th {\n",
       "        text-align: right;\n",
       "    }\n",
       "</style>\n",
       "<table border=\"1\" class=\"dataframe\">\n",
       "  <thead>\n",
       "    <tr style=\"text-align: right;\">\n",
       "      <th></th>\n",
       "      <th>MonthlyCharges</th>\n",
       "    </tr>\n",
       "  </thead>\n",
       "  <tbody>\n",
       "    <tr>\n",
       "      <th>count</th>\n",
       "      <td>7043.000000</td>\n",
       "    </tr>\n",
       "    <tr>\n",
       "      <th>mean</th>\n",
       "      <td>64.761692</td>\n",
       "    </tr>\n",
       "    <tr>\n",
       "      <th>std</th>\n",
       "      <td>30.090047</td>\n",
       "    </tr>\n",
       "    <tr>\n",
       "      <th>min</th>\n",
       "      <td>18.250000</td>\n",
       "    </tr>\n",
       "    <tr>\n",
       "      <th>25%</th>\n",
       "      <td>35.500000</td>\n",
       "    </tr>\n",
       "    <tr>\n",
       "      <th>50%</th>\n",
       "      <td>70.350000</td>\n",
       "    </tr>\n",
       "    <tr>\n",
       "      <th>75%</th>\n",
       "      <td>89.850000</td>\n",
       "    </tr>\n",
       "    <tr>\n",
       "      <th>max</th>\n",
       "      <td>118.750000</td>\n",
       "    </tr>\n",
       "  </tbody>\n",
       "</table>\n",
       "</div>"
      ],
      "text/plain": [
       "       MonthlyCharges\n",
       "count     7043.000000\n",
       "mean        64.761692\n",
       "std         30.090047\n",
       "min         18.250000\n",
       "25%         35.500000\n",
       "50%         70.350000\n",
       "75%         89.850000\n",
       "max        118.750000"
      ]
     },
     "metadata": {},
     "output_type": "display_data"
    },
    {
     "name": "stdout",
     "output_type": "stream",
     "text": [
      "\n",
      "Estadísticas descriptivas (variables categóricas):\n"
     ]
    },
    {
     "data": {
      "text/html": [
       "<div>\n",
       "<style scoped>\n",
       "    .dataframe tbody tr th:only-of-type {\n",
       "        vertical-align: middle;\n",
       "    }\n",
       "\n",
       "    .dataframe tbody tr th {\n",
       "        vertical-align: top;\n",
       "    }\n",
       "\n",
       "    .dataframe thead th {\n",
       "        text-align: right;\n",
       "    }\n",
       "</style>\n",
       "<table border=\"1\" class=\"dataframe\">\n",
       "  <thead>\n",
       "    <tr style=\"text-align: right;\">\n",
       "      <th></th>\n",
       "      <th>customerID</th>\n",
       "      <th>BeginDate</th>\n",
       "      <th>EndDate</th>\n",
       "      <th>Type</th>\n",
       "      <th>PaperlessBilling</th>\n",
       "      <th>PaymentMethod</th>\n",
       "      <th>TotalCharges</th>\n",
       "    </tr>\n",
       "  </thead>\n",
       "  <tbody>\n",
       "    <tr>\n",
       "      <th>count</th>\n",
       "      <td>7043</td>\n",
       "      <td>7043</td>\n",
       "      <td>7043</td>\n",
       "      <td>7043</td>\n",
       "      <td>7043</td>\n",
       "      <td>7043</td>\n",
       "      <td>7043</td>\n",
       "    </tr>\n",
       "    <tr>\n",
       "      <th>unique</th>\n",
       "      <td>7043</td>\n",
       "      <td>77</td>\n",
       "      <td>5</td>\n",
       "      <td>3</td>\n",
       "      <td>2</td>\n",
       "      <td>4</td>\n",
       "      <td>6531</td>\n",
       "    </tr>\n",
       "    <tr>\n",
       "      <th>top</th>\n",
       "      <td>7590-VHVEG</td>\n",
       "      <td>2014-02-01</td>\n",
       "      <td>No</td>\n",
       "      <td>Month-to-month</td>\n",
       "      <td>Yes</td>\n",
       "      <td>Electronic check</td>\n",
       "      <td></td>\n",
       "    </tr>\n",
       "    <tr>\n",
       "      <th>freq</th>\n",
       "      <td>1</td>\n",
       "      <td>366</td>\n",
       "      <td>5174</td>\n",
       "      <td>3875</td>\n",
       "      <td>4171</td>\n",
       "      <td>2365</td>\n",
       "      <td>11</td>\n",
       "    </tr>\n",
       "  </tbody>\n",
       "</table>\n",
       "</div>"
      ],
      "text/plain": [
       "        customerID   BeginDate EndDate            Type PaperlessBilling  \\\n",
       "count         7043        7043    7043            7043             7043   \n",
       "unique        7043          77       5               3                2   \n",
       "top     7590-VHVEG  2014-02-01      No  Month-to-month              Yes   \n",
       "freq             1         366    5174            3875             4171   \n",
       "\n",
       "           PaymentMethod TotalCharges  \n",
       "count               7043         7043  \n",
       "unique                 4         6531  \n",
       "top     Electronic check               \n",
       "freq                2365           11  "
      ]
     },
     "metadata": {},
     "output_type": "display_data"
    }
   ],
   "source": [
    "# Función para realizar un análisis exploratorio rápido de cada DataFrame.\n",
    "analisis(contract)"
   ]
  },
  {
   "cell_type": "markdown",
   "metadata": {},
   "source": [
    "Observación:\n",
    "\n",
    "- Columnas BeginDate y EndDate tienen un tipo incorrecto\n",
    "- Columna TotalChargues es de tipo incorrecto\n",
    "- No se ven datos nulos o duplicados "
   ]
  },
  {
   "cell_type": "code",
   "execution_count": 63,
   "metadata": {},
   "outputs": [
    {
     "name": "stdout",
     "output_type": "stream",
     "text": [
      "Primeras filas del DataFrame:\n"
     ]
    },
    {
     "data": {
      "text/html": [
       "<div>\n",
       "<style scoped>\n",
       "    .dataframe tbody tr th:only-of-type {\n",
       "        vertical-align: middle;\n",
       "    }\n",
       "\n",
       "    .dataframe tbody tr th {\n",
       "        vertical-align: top;\n",
       "    }\n",
       "\n",
       "    .dataframe thead th {\n",
       "        text-align: right;\n",
       "    }\n",
       "</style>\n",
       "<table border=\"1\" class=\"dataframe\">\n",
       "  <thead>\n",
       "    <tr style=\"text-align: right;\">\n",
       "      <th></th>\n",
       "      <th>customerID</th>\n",
       "      <th>gender</th>\n",
       "      <th>SeniorCitizen</th>\n",
       "      <th>Partner</th>\n",
       "      <th>Dependents</th>\n",
       "    </tr>\n",
       "  </thead>\n",
       "  <tbody>\n",
       "    <tr>\n",
       "      <th>0</th>\n",
       "      <td>7590-VHVEG</td>\n",
       "      <td>Female</td>\n",
       "      <td>0</td>\n",
       "      <td>Yes</td>\n",
       "      <td>No</td>\n",
       "    </tr>\n",
       "    <tr>\n",
       "      <th>1</th>\n",
       "      <td>5575-GNVDE</td>\n",
       "      <td>Male</td>\n",
       "      <td>0</td>\n",
       "      <td>No</td>\n",
       "      <td>No</td>\n",
       "    </tr>\n",
       "    <tr>\n",
       "      <th>2</th>\n",
       "      <td>3668-QPYBK</td>\n",
       "      <td>Male</td>\n",
       "      <td>0</td>\n",
       "      <td>No</td>\n",
       "      <td>No</td>\n",
       "    </tr>\n",
       "    <tr>\n",
       "      <th>3</th>\n",
       "      <td>7795-CFOCW</td>\n",
       "      <td>Male</td>\n",
       "      <td>0</td>\n",
       "      <td>No</td>\n",
       "      <td>No</td>\n",
       "    </tr>\n",
       "    <tr>\n",
       "      <th>4</th>\n",
       "      <td>9237-HQITU</td>\n",
       "      <td>Female</td>\n",
       "      <td>0</td>\n",
       "      <td>No</td>\n",
       "      <td>No</td>\n",
       "    </tr>\n",
       "  </tbody>\n",
       "</table>\n",
       "</div>"
      ],
      "text/plain": [
       "   customerID  gender  SeniorCitizen Partner Dependents\n",
       "0  7590-VHVEG  Female              0     Yes         No\n",
       "1  5575-GNVDE    Male              0      No         No\n",
       "2  3668-QPYBK    Male              0      No         No\n",
       "3  7795-CFOCW    Male              0      No         No\n",
       "4  9237-HQITU  Female              0      No         No"
      ]
     },
     "metadata": {},
     "output_type": "display_data"
    },
    {
     "name": "stdout",
     "output_type": "stream",
     "text": [
      "\n",
      "Información general:\n",
      "<class 'pandas.core.frame.DataFrame'>\n",
      "RangeIndex: 7043 entries, 0 to 7042\n",
      "Data columns (total 5 columns):\n",
      " #   Column         Non-Null Count  Dtype \n",
      "---  ------         --------------  ----- \n",
      " 0   customerID     7043 non-null   object\n",
      " 1   gender         7043 non-null   object\n",
      " 2   SeniorCitizen  7043 non-null   int64 \n",
      " 3   Partner        7043 non-null   object\n",
      " 4   Dependents     7043 non-null   object\n",
      "dtypes: int64(1), object(4)\n",
      "memory usage: 275.2+ KB\n",
      "None\n",
      "\n",
      "Forma del DataFrame: (7043, 5)\n",
      "\n",
      "Cantidad de filas duplicadas: 0\n",
      "\n",
      "Cantidad de valores nulos por columna:\n",
      "customerID       0\n",
      "gender           0\n",
      "SeniorCitizen    0\n",
      "Partner          0\n",
      "Dependents       0\n",
      "dtype: int64\n",
      "\n",
      "Estadísticas descriptivas (variables numéricas):\n"
     ]
    },
    {
     "data": {
      "text/html": [
       "<div>\n",
       "<style scoped>\n",
       "    .dataframe tbody tr th:only-of-type {\n",
       "        vertical-align: middle;\n",
       "    }\n",
       "\n",
       "    .dataframe tbody tr th {\n",
       "        vertical-align: top;\n",
       "    }\n",
       "\n",
       "    .dataframe thead th {\n",
       "        text-align: right;\n",
       "    }\n",
       "</style>\n",
       "<table border=\"1\" class=\"dataframe\">\n",
       "  <thead>\n",
       "    <tr style=\"text-align: right;\">\n",
       "      <th></th>\n",
       "      <th>SeniorCitizen</th>\n",
       "    </tr>\n",
       "  </thead>\n",
       "  <tbody>\n",
       "    <tr>\n",
       "      <th>count</th>\n",
       "      <td>7043.000000</td>\n",
       "    </tr>\n",
       "    <tr>\n",
       "      <th>mean</th>\n",
       "      <td>0.162147</td>\n",
       "    </tr>\n",
       "    <tr>\n",
       "      <th>std</th>\n",
       "      <td>0.368612</td>\n",
       "    </tr>\n",
       "    <tr>\n",
       "      <th>min</th>\n",
       "      <td>0.000000</td>\n",
       "    </tr>\n",
       "    <tr>\n",
       "      <th>25%</th>\n",
       "      <td>0.000000</td>\n",
       "    </tr>\n",
       "    <tr>\n",
       "      <th>50%</th>\n",
       "      <td>0.000000</td>\n",
       "    </tr>\n",
       "    <tr>\n",
       "      <th>75%</th>\n",
       "      <td>0.000000</td>\n",
       "    </tr>\n",
       "    <tr>\n",
       "      <th>max</th>\n",
       "      <td>1.000000</td>\n",
       "    </tr>\n",
       "  </tbody>\n",
       "</table>\n",
       "</div>"
      ],
      "text/plain": [
       "       SeniorCitizen\n",
       "count    7043.000000\n",
       "mean        0.162147\n",
       "std         0.368612\n",
       "min         0.000000\n",
       "25%         0.000000\n",
       "50%         0.000000\n",
       "75%         0.000000\n",
       "max         1.000000"
      ]
     },
     "metadata": {},
     "output_type": "display_data"
    },
    {
     "name": "stdout",
     "output_type": "stream",
     "text": [
      "\n",
      "Estadísticas descriptivas (variables categóricas):\n"
     ]
    },
    {
     "data": {
      "text/html": [
       "<div>\n",
       "<style scoped>\n",
       "    .dataframe tbody tr th:only-of-type {\n",
       "        vertical-align: middle;\n",
       "    }\n",
       "\n",
       "    .dataframe tbody tr th {\n",
       "        vertical-align: top;\n",
       "    }\n",
       "\n",
       "    .dataframe thead th {\n",
       "        text-align: right;\n",
       "    }\n",
       "</style>\n",
       "<table border=\"1\" class=\"dataframe\">\n",
       "  <thead>\n",
       "    <tr style=\"text-align: right;\">\n",
       "      <th></th>\n",
       "      <th>customerID</th>\n",
       "      <th>gender</th>\n",
       "      <th>Partner</th>\n",
       "      <th>Dependents</th>\n",
       "    </tr>\n",
       "  </thead>\n",
       "  <tbody>\n",
       "    <tr>\n",
       "      <th>count</th>\n",
       "      <td>7043</td>\n",
       "      <td>7043</td>\n",
       "      <td>7043</td>\n",
       "      <td>7043</td>\n",
       "    </tr>\n",
       "    <tr>\n",
       "      <th>unique</th>\n",
       "      <td>7043</td>\n",
       "      <td>2</td>\n",
       "      <td>2</td>\n",
       "      <td>2</td>\n",
       "    </tr>\n",
       "    <tr>\n",
       "      <th>top</th>\n",
       "      <td>7590-VHVEG</td>\n",
       "      <td>Male</td>\n",
       "      <td>No</td>\n",
       "      <td>No</td>\n",
       "    </tr>\n",
       "    <tr>\n",
       "      <th>freq</th>\n",
       "      <td>1</td>\n",
       "      <td>3555</td>\n",
       "      <td>3641</td>\n",
       "      <td>4933</td>\n",
       "    </tr>\n",
       "  </tbody>\n",
       "</table>\n",
       "</div>"
      ],
      "text/plain": [
       "        customerID gender Partner Dependents\n",
       "count         7043   7043    7043       7043\n",
       "unique        7043      2       2          2\n",
       "top     7590-VHVEG   Male      No         No\n",
       "freq             1   3555    3641       4933"
      ]
     },
     "metadata": {},
     "output_type": "display_data"
    }
   ],
   "source": [
    "analisis(personal)"
   ]
  },
  {
   "cell_type": "markdown",
   "metadata": {},
   "source": [
    "Observación:\n",
    "- No tenemos valores nulos o duplicados\n",
    "- Observamos que la mayoría de características son binarias"
   ]
  },
  {
   "cell_type": "code",
   "execution_count": 64,
   "metadata": {},
   "outputs": [
    {
     "name": "stdout",
     "output_type": "stream",
     "text": [
      "Primeras filas del DataFrame:\n"
     ]
    },
    {
     "data": {
      "text/html": [
       "<div>\n",
       "<style scoped>\n",
       "    .dataframe tbody tr th:only-of-type {\n",
       "        vertical-align: middle;\n",
       "    }\n",
       "\n",
       "    .dataframe tbody tr th {\n",
       "        vertical-align: top;\n",
       "    }\n",
       "\n",
       "    .dataframe thead th {\n",
       "        text-align: right;\n",
       "    }\n",
       "</style>\n",
       "<table border=\"1\" class=\"dataframe\">\n",
       "  <thead>\n",
       "    <tr style=\"text-align: right;\">\n",
       "      <th></th>\n",
       "      <th>customerID</th>\n",
       "      <th>InternetService</th>\n",
       "      <th>OnlineSecurity</th>\n",
       "      <th>OnlineBackup</th>\n",
       "      <th>DeviceProtection</th>\n",
       "      <th>TechSupport</th>\n",
       "      <th>StreamingTV</th>\n",
       "      <th>StreamingMovies</th>\n",
       "    </tr>\n",
       "  </thead>\n",
       "  <tbody>\n",
       "    <tr>\n",
       "      <th>0</th>\n",
       "      <td>7590-VHVEG</td>\n",
       "      <td>DSL</td>\n",
       "      <td>No</td>\n",
       "      <td>Yes</td>\n",
       "      <td>No</td>\n",
       "      <td>No</td>\n",
       "      <td>No</td>\n",
       "      <td>No</td>\n",
       "    </tr>\n",
       "    <tr>\n",
       "      <th>1</th>\n",
       "      <td>5575-GNVDE</td>\n",
       "      <td>DSL</td>\n",
       "      <td>Yes</td>\n",
       "      <td>No</td>\n",
       "      <td>Yes</td>\n",
       "      <td>No</td>\n",
       "      <td>No</td>\n",
       "      <td>No</td>\n",
       "    </tr>\n",
       "    <tr>\n",
       "      <th>2</th>\n",
       "      <td>3668-QPYBK</td>\n",
       "      <td>DSL</td>\n",
       "      <td>Yes</td>\n",
       "      <td>Yes</td>\n",
       "      <td>No</td>\n",
       "      <td>No</td>\n",
       "      <td>No</td>\n",
       "      <td>No</td>\n",
       "    </tr>\n",
       "    <tr>\n",
       "      <th>3</th>\n",
       "      <td>7795-CFOCW</td>\n",
       "      <td>DSL</td>\n",
       "      <td>Yes</td>\n",
       "      <td>No</td>\n",
       "      <td>Yes</td>\n",
       "      <td>Yes</td>\n",
       "      <td>No</td>\n",
       "      <td>No</td>\n",
       "    </tr>\n",
       "    <tr>\n",
       "      <th>4</th>\n",
       "      <td>9237-HQITU</td>\n",
       "      <td>Fiber optic</td>\n",
       "      <td>No</td>\n",
       "      <td>No</td>\n",
       "      <td>No</td>\n",
       "      <td>No</td>\n",
       "      <td>No</td>\n",
       "      <td>No</td>\n",
       "    </tr>\n",
       "  </tbody>\n",
       "</table>\n",
       "</div>"
      ],
      "text/plain": [
       "   customerID InternetService OnlineSecurity OnlineBackup DeviceProtection  \\\n",
       "0  7590-VHVEG             DSL             No          Yes               No   \n",
       "1  5575-GNVDE             DSL            Yes           No              Yes   \n",
       "2  3668-QPYBK             DSL            Yes          Yes               No   \n",
       "3  7795-CFOCW             DSL            Yes           No              Yes   \n",
       "4  9237-HQITU     Fiber optic             No           No               No   \n",
       "\n",
       "  TechSupport StreamingTV StreamingMovies  \n",
       "0          No          No              No  \n",
       "1          No          No              No  \n",
       "2          No          No              No  \n",
       "3         Yes          No              No  \n",
       "4          No          No              No  "
      ]
     },
     "metadata": {},
     "output_type": "display_data"
    },
    {
     "name": "stdout",
     "output_type": "stream",
     "text": [
      "\n",
      "Información general:\n",
      "<class 'pandas.core.frame.DataFrame'>\n",
      "RangeIndex: 5517 entries, 0 to 5516\n",
      "Data columns (total 8 columns):\n",
      " #   Column            Non-Null Count  Dtype \n",
      "---  ------            --------------  ----- \n",
      " 0   customerID        5517 non-null   object\n",
      " 1   InternetService   5517 non-null   object\n",
      " 2   OnlineSecurity    5517 non-null   object\n",
      " 3   OnlineBackup      5517 non-null   object\n",
      " 4   DeviceProtection  5517 non-null   object\n",
      " 5   TechSupport       5517 non-null   object\n",
      " 6   StreamingTV       5517 non-null   object\n",
      " 7   StreamingMovies   5517 non-null   object\n",
      "dtypes: object(8)\n",
      "memory usage: 344.9+ KB\n",
      "None\n",
      "\n",
      "Forma del DataFrame: (5517, 8)\n",
      "\n",
      "Cantidad de filas duplicadas: 0\n",
      "\n",
      "Cantidad de valores nulos por columna:\n",
      "customerID          0\n",
      "InternetService     0\n",
      "OnlineSecurity      0\n",
      "OnlineBackup        0\n",
      "DeviceProtection    0\n",
      "TechSupport         0\n",
      "StreamingTV         0\n",
      "StreamingMovies     0\n",
      "dtype: int64\n",
      "\n",
      "Estadísticas descriptivas (variables numéricas):\n"
     ]
    },
    {
     "data": {
      "text/html": [
       "<div>\n",
       "<style scoped>\n",
       "    .dataframe tbody tr th:only-of-type {\n",
       "        vertical-align: middle;\n",
       "    }\n",
       "\n",
       "    .dataframe tbody tr th {\n",
       "        vertical-align: top;\n",
       "    }\n",
       "\n",
       "    .dataframe thead th {\n",
       "        text-align: right;\n",
       "    }\n",
       "</style>\n",
       "<table border=\"1\" class=\"dataframe\">\n",
       "  <thead>\n",
       "    <tr style=\"text-align: right;\">\n",
       "      <th></th>\n",
       "      <th>customerID</th>\n",
       "      <th>InternetService</th>\n",
       "      <th>OnlineSecurity</th>\n",
       "      <th>OnlineBackup</th>\n",
       "      <th>DeviceProtection</th>\n",
       "      <th>TechSupport</th>\n",
       "      <th>StreamingTV</th>\n",
       "      <th>StreamingMovies</th>\n",
       "    </tr>\n",
       "  </thead>\n",
       "  <tbody>\n",
       "    <tr>\n",
       "      <th>count</th>\n",
       "      <td>5517</td>\n",
       "      <td>5517</td>\n",
       "      <td>5517</td>\n",
       "      <td>5517</td>\n",
       "      <td>5517</td>\n",
       "      <td>5517</td>\n",
       "      <td>5517</td>\n",
       "      <td>5517</td>\n",
       "    </tr>\n",
       "    <tr>\n",
       "      <th>unique</th>\n",
       "      <td>5517</td>\n",
       "      <td>2</td>\n",
       "      <td>2</td>\n",
       "      <td>2</td>\n",
       "      <td>2</td>\n",
       "      <td>2</td>\n",
       "      <td>2</td>\n",
       "      <td>2</td>\n",
       "    </tr>\n",
       "    <tr>\n",
       "      <th>top</th>\n",
       "      <td>7590-VHVEG</td>\n",
       "      <td>Fiber optic</td>\n",
       "      <td>No</td>\n",
       "      <td>No</td>\n",
       "      <td>No</td>\n",
       "      <td>No</td>\n",
       "      <td>No</td>\n",
       "      <td>No</td>\n",
       "    </tr>\n",
       "    <tr>\n",
       "      <th>freq</th>\n",
       "      <td>1</td>\n",
       "      <td>3096</td>\n",
       "      <td>3498</td>\n",
       "      <td>3088</td>\n",
       "      <td>3095</td>\n",
       "      <td>3473</td>\n",
       "      <td>2810</td>\n",
       "      <td>2785</td>\n",
       "    </tr>\n",
       "  </tbody>\n",
       "</table>\n",
       "</div>"
      ],
      "text/plain": [
       "        customerID InternetService OnlineSecurity OnlineBackup  \\\n",
       "count         5517            5517           5517         5517   \n",
       "unique        5517               2              2            2   \n",
       "top     7590-VHVEG     Fiber optic             No           No   \n",
       "freq             1            3096           3498         3088   \n",
       "\n",
       "       DeviceProtection TechSupport StreamingTV StreamingMovies  \n",
       "count              5517        5517        5517            5517  \n",
       "unique                2           2           2               2  \n",
       "top                  No          No          No              No  \n",
       "freq               3095        3473        2810            2785  "
      ]
     },
     "metadata": {},
     "output_type": "display_data"
    },
    {
     "name": "stdout",
     "output_type": "stream",
     "text": [
      "\n",
      "Estadísticas descriptivas (variables categóricas):\n"
     ]
    },
    {
     "data": {
      "text/html": [
       "<div>\n",
       "<style scoped>\n",
       "    .dataframe tbody tr th:only-of-type {\n",
       "        vertical-align: middle;\n",
       "    }\n",
       "\n",
       "    .dataframe tbody tr th {\n",
       "        vertical-align: top;\n",
       "    }\n",
       "\n",
       "    .dataframe thead th {\n",
       "        text-align: right;\n",
       "    }\n",
       "</style>\n",
       "<table border=\"1\" class=\"dataframe\">\n",
       "  <thead>\n",
       "    <tr style=\"text-align: right;\">\n",
       "      <th></th>\n",
       "      <th>customerID</th>\n",
       "      <th>InternetService</th>\n",
       "      <th>OnlineSecurity</th>\n",
       "      <th>OnlineBackup</th>\n",
       "      <th>DeviceProtection</th>\n",
       "      <th>TechSupport</th>\n",
       "      <th>StreamingTV</th>\n",
       "      <th>StreamingMovies</th>\n",
       "    </tr>\n",
       "  </thead>\n",
       "  <tbody>\n",
       "    <tr>\n",
       "      <th>count</th>\n",
       "      <td>5517</td>\n",
       "      <td>5517</td>\n",
       "      <td>5517</td>\n",
       "      <td>5517</td>\n",
       "      <td>5517</td>\n",
       "      <td>5517</td>\n",
       "      <td>5517</td>\n",
       "      <td>5517</td>\n",
       "    </tr>\n",
       "    <tr>\n",
       "      <th>unique</th>\n",
       "      <td>5517</td>\n",
       "      <td>2</td>\n",
       "      <td>2</td>\n",
       "      <td>2</td>\n",
       "      <td>2</td>\n",
       "      <td>2</td>\n",
       "      <td>2</td>\n",
       "      <td>2</td>\n",
       "    </tr>\n",
       "    <tr>\n",
       "      <th>top</th>\n",
       "      <td>7590-VHVEG</td>\n",
       "      <td>Fiber optic</td>\n",
       "      <td>No</td>\n",
       "      <td>No</td>\n",
       "      <td>No</td>\n",
       "      <td>No</td>\n",
       "      <td>No</td>\n",
       "      <td>No</td>\n",
       "    </tr>\n",
       "    <tr>\n",
       "      <th>freq</th>\n",
       "      <td>1</td>\n",
       "      <td>3096</td>\n",
       "      <td>3498</td>\n",
       "      <td>3088</td>\n",
       "      <td>3095</td>\n",
       "      <td>3473</td>\n",
       "      <td>2810</td>\n",
       "      <td>2785</td>\n",
       "    </tr>\n",
       "  </tbody>\n",
       "</table>\n",
       "</div>"
      ],
      "text/plain": [
       "        customerID InternetService OnlineSecurity OnlineBackup  \\\n",
       "count         5517            5517           5517         5517   \n",
       "unique        5517               2              2            2   \n",
       "top     7590-VHVEG     Fiber optic             No           No   \n",
       "freq             1            3096           3498         3088   \n",
       "\n",
       "       DeviceProtection TechSupport StreamingTV StreamingMovies  \n",
       "count              5517        5517        5517            5517  \n",
       "unique                2           2           2               2  \n",
       "top                  No          No          No              No  \n",
       "freq               3095        3473        2810            2785  "
      ]
     },
     "metadata": {},
     "output_type": "display_data"
    }
   ],
   "source": [
    "analisis(internet)"
   ]
  },
  {
   "cell_type": "markdown",
   "metadata": {},
   "source": [
    "Observación:\n",
    "- No tenemos datos nulos o duplicados\n",
    "- Las características son del tipo binario"
   ]
  },
  {
   "cell_type": "code",
   "execution_count": 65,
   "metadata": {},
   "outputs": [
    {
     "name": "stdout",
     "output_type": "stream",
     "text": [
      "Primeras filas del DataFrame:\n"
     ]
    },
    {
     "data": {
      "text/html": [
       "<div>\n",
       "<style scoped>\n",
       "    .dataframe tbody tr th:only-of-type {\n",
       "        vertical-align: middle;\n",
       "    }\n",
       "\n",
       "    .dataframe tbody tr th {\n",
       "        vertical-align: top;\n",
       "    }\n",
       "\n",
       "    .dataframe thead th {\n",
       "        text-align: right;\n",
       "    }\n",
       "</style>\n",
       "<table border=\"1\" class=\"dataframe\">\n",
       "  <thead>\n",
       "    <tr style=\"text-align: right;\">\n",
       "      <th></th>\n",
       "      <th>customerID</th>\n",
       "      <th>MultipleLines</th>\n",
       "    </tr>\n",
       "  </thead>\n",
       "  <tbody>\n",
       "    <tr>\n",
       "      <th>0</th>\n",
       "      <td>5575-GNVDE</td>\n",
       "      <td>No</td>\n",
       "    </tr>\n",
       "    <tr>\n",
       "      <th>1</th>\n",
       "      <td>3668-QPYBK</td>\n",
       "      <td>No</td>\n",
       "    </tr>\n",
       "    <tr>\n",
       "      <th>2</th>\n",
       "      <td>9237-HQITU</td>\n",
       "      <td>No</td>\n",
       "    </tr>\n",
       "    <tr>\n",
       "      <th>3</th>\n",
       "      <td>9305-CDSKC</td>\n",
       "      <td>Yes</td>\n",
       "    </tr>\n",
       "    <tr>\n",
       "      <th>4</th>\n",
       "      <td>1452-KIOVK</td>\n",
       "      <td>Yes</td>\n",
       "    </tr>\n",
       "  </tbody>\n",
       "</table>\n",
       "</div>"
      ],
      "text/plain": [
       "   customerID MultipleLines\n",
       "0  5575-GNVDE            No\n",
       "1  3668-QPYBK            No\n",
       "2  9237-HQITU            No\n",
       "3  9305-CDSKC           Yes\n",
       "4  1452-KIOVK           Yes"
      ]
     },
     "metadata": {},
     "output_type": "display_data"
    },
    {
     "name": "stdout",
     "output_type": "stream",
     "text": [
      "\n",
      "Información general:\n",
      "<class 'pandas.core.frame.DataFrame'>\n",
      "RangeIndex: 6361 entries, 0 to 6360\n",
      "Data columns (total 2 columns):\n",
      " #   Column         Non-Null Count  Dtype \n",
      "---  ------         --------------  ----- \n",
      " 0   customerID     6361 non-null   object\n",
      " 1   MultipleLines  6361 non-null   object\n",
      "dtypes: object(2)\n",
      "memory usage: 99.5+ KB\n",
      "None\n",
      "\n",
      "Forma del DataFrame: (6361, 2)\n",
      "\n",
      "Cantidad de filas duplicadas: 0\n",
      "\n",
      "Cantidad de valores nulos por columna:\n",
      "customerID       0\n",
      "MultipleLines    0\n",
      "dtype: int64\n",
      "\n",
      "Estadísticas descriptivas (variables numéricas):\n"
     ]
    },
    {
     "data": {
      "text/html": [
       "<div>\n",
       "<style scoped>\n",
       "    .dataframe tbody tr th:only-of-type {\n",
       "        vertical-align: middle;\n",
       "    }\n",
       "\n",
       "    .dataframe tbody tr th {\n",
       "        vertical-align: top;\n",
       "    }\n",
       "\n",
       "    .dataframe thead th {\n",
       "        text-align: right;\n",
       "    }\n",
       "</style>\n",
       "<table border=\"1\" class=\"dataframe\">\n",
       "  <thead>\n",
       "    <tr style=\"text-align: right;\">\n",
       "      <th></th>\n",
       "      <th>customerID</th>\n",
       "      <th>MultipleLines</th>\n",
       "    </tr>\n",
       "  </thead>\n",
       "  <tbody>\n",
       "    <tr>\n",
       "      <th>count</th>\n",
       "      <td>6361</td>\n",
       "      <td>6361</td>\n",
       "    </tr>\n",
       "    <tr>\n",
       "      <th>unique</th>\n",
       "      <td>6361</td>\n",
       "      <td>2</td>\n",
       "    </tr>\n",
       "    <tr>\n",
       "      <th>top</th>\n",
       "      <td>5575-GNVDE</td>\n",
       "      <td>No</td>\n",
       "    </tr>\n",
       "    <tr>\n",
       "      <th>freq</th>\n",
       "      <td>1</td>\n",
       "      <td>3390</td>\n",
       "    </tr>\n",
       "  </tbody>\n",
       "</table>\n",
       "</div>"
      ],
      "text/plain": [
       "        customerID MultipleLines\n",
       "count         6361          6361\n",
       "unique        6361             2\n",
       "top     5575-GNVDE            No\n",
       "freq             1          3390"
      ]
     },
     "metadata": {},
     "output_type": "display_data"
    },
    {
     "name": "stdout",
     "output_type": "stream",
     "text": [
      "\n",
      "Estadísticas descriptivas (variables categóricas):\n"
     ]
    },
    {
     "data": {
      "text/html": [
       "<div>\n",
       "<style scoped>\n",
       "    .dataframe tbody tr th:only-of-type {\n",
       "        vertical-align: middle;\n",
       "    }\n",
       "\n",
       "    .dataframe tbody tr th {\n",
       "        vertical-align: top;\n",
       "    }\n",
       "\n",
       "    .dataframe thead th {\n",
       "        text-align: right;\n",
       "    }\n",
       "</style>\n",
       "<table border=\"1\" class=\"dataframe\">\n",
       "  <thead>\n",
       "    <tr style=\"text-align: right;\">\n",
       "      <th></th>\n",
       "      <th>customerID</th>\n",
       "      <th>MultipleLines</th>\n",
       "    </tr>\n",
       "  </thead>\n",
       "  <tbody>\n",
       "    <tr>\n",
       "      <th>count</th>\n",
       "      <td>6361</td>\n",
       "      <td>6361</td>\n",
       "    </tr>\n",
       "    <tr>\n",
       "      <th>unique</th>\n",
       "      <td>6361</td>\n",
       "      <td>2</td>\n",
       "    </tr>\n",
       "    <tr>\n",
       "      <th>top</th>\n",
       "      <td>5575-GNVDE</td>\n",
       "      <td>No</td>\n",
       "    </tr>\n",
       "    <tr>\n",
       "      <th>freq</th>\n",
       "      <td>1</td>\n",
       "      <td>3390</td>\n",
       "    </tr>\n",
       "  </tbody>\n",
       "</table>\n",
       "</div>"
      ],
      "text/plain": [
       "        customerID MultipleLines\n",
       "count         6361          6361\n",
       "unique        6361             2\n",
       "top     5575-GNVDE            No\n",
       "freq             1          3390"
      ]
     },
     "metadata": {},
     "output_type": "display_data"
    }
   ],
   "source": [
    "analisis(phone)"
   ]
  },
  {
   "cell_type": "markdown",
   "metadata": {},
   "source": [
    "Observación\n",
    "- No se observan valores nulos o duplicados "
   ]
  },
  {
   "cell_type": "markdown",
   "metadata": {},
   "source": [
    "Es conveniente limpiar y corregir los datos, esto facilita el flujo de trabajo y también mejora la calidad y confiabilidad del trabajo.\n",
    "\n",
    "\n",
    "Para continuar corregiremos los problemas en el dataframe contract: "
   ]
  },
  {
   "cell_type": "markdown",
   "metadata": {},
   "source": [
    "### LIMPIEZA Y PREPROCESAMIENTO DE DATOS INICIAL"
   ]
  },
  {
   "cell_type": "code",
   "execution_count": 66,
   "metadata": {},
   "outputs": [
    {
     "name": "stdout",
     "output_type": "stream",
     "text": [
      "Limpieza de Datos\n",
      "\n",
      "Resumen de datos después de limpieza:\n",
      "<class 'pandas.core.frame.DataFrame'>\n",
      "Index: 7032 entries, 0 to 7042\n",
      "Data columns (total 8 columns):\n",
      " #   Column            Non-Null Count  Dtype         \n",
      "---  ------            --------------  -----         \n",
      " 0   customerID        7032 non-null   object        \n",
      " 1   BeginDate         7032 non-null   datetime64[ns]\n",
      " 2   EndDate           1869 non-null   datetime64[ns]\n",
      " 3   Type              7032 non-null   object        \n",
      " 4   PaperlessBilling  7032 non-null   object        \n",
      " 5   PaymentMethod     7032 non-null   object        \n",
      " 6   MonthlyCharges    7032 non-null   float64       \n",
      " 7   TotalCharges      7032 non-null   float64       \n",
      "dtypes: datetime64[ns](2), float64(2), object(4)\n",
      "memory usage: 494.4+ KB\n",
      "None\n"
     ]
    },
    {
     "name": "stderr",
     "output_type": "stream",
     "text": [
      "C:\\Users\\juan6\\AppData\\Local\\Temp\\ipykernel_23036\\1792797708.py:10: UserWarning: Could not infer format, so each element will be parsed individually, falling back to `dateutil`. To ensure parsing is consistent and as-expected, please specify a format.\n",
      "  contract['EndDate'] = pd.to_datetime(contract['EndDate'], errors='coerce')\n"
     ]
    }
   ],
   "source": [
    "print('Limpieza de Datos')\n",
    "print()\n",
    "# Imputación de valores nulos en TotalCharges \n",
    "contract['TotalCharges'] = pd.to_numeric(contract['TotalCharges'], errors='coerce')\n",
    "# Eliminar filas con valores nulos en 'TotalCharges' pues son muy pocas (11)\n",
    "contract.dropna(subset=['TotalCharges'], inplace=True)\n",
    "\n",
    "# Corrección de tipos de datos en columnas de fecha\n",
    "contract['BeginDate'] = pd.to_datetime(contract['BeginDate'], errors='coerce')\n",
    "contract['EndDate'] = pd.to_datetime(contract['EndDate'], errors='coerce')\n",
    "\n",
    "# Eliminar duplicados (si es necesario)\n",
    "contract.drop_duplicates(inplace=True)\n",
    "    \n",
    "# Validar cambios\n",
    "print(\"Resumen de datos después de limpieza:\")\n",
    "print(contract.info())\n"
   ]
  },
  {
   "cell_type": "markdown",
   "metadata": {},
   "source": [
    "### ANÁLISIS DE VARIABLES"
   ]
  },
  {
   "cell_type": "markdown",
   "metadata": {},
   "source": [
    "Después de la limpieza, observamos que la columna `EndDate` tiene valores nulos (NaT) en lugar de \"No\", lo cual indica que esos clientes no han terminado su contrato. "
   ]
  },
  {
   "cell_type": "markdown",
   "metadata": {},
   "source": [
    "Definimos funciones para mejorar el análisis y visualizar los datos."
   ]
  },
  {
   "cell_type": "code",
   "execution_count": 67,
   "metadata": {},
   "outputs": [],
   "source": [
    "# Función para distribución de Variables Numéricas\n",
    "def distribucion_numericas(df):\n",
    "    \"\"\"\n",
    "    Muestra la distribución de todas las columnas numéricas en el DataFrame.\n",
    "    \n",
    "    Args:\n",
    "    df (pd.DataFrame): DataFrame a analizar.\n",
    "    \"\"\"\n",
    "    numeric_columns = df.select_dtypes(include=['float64', 'int64']).columns\n",
    "    for column in numeric_columns:\n",
    "        plt.figure(figsize=(6, 2))\n",
    "        sns.histplot(df[column], kde=True)\n",
    "        plt.title(f'Distribución de {column}')\n",
    "        plt.show()\n",
    "\n",
    "        plt.figure(figsize=(6, 2))\n",
    "        sns.boxplot(x=df[column])\n",
    "        plt.title(f'Boxplot de {column}')\n",
    "        plt.show()\n"
   ]
  },
  {
   "cell_type": "code",
   "execution_count": 68,
   "metadata": {},
   "outputs": [],
   "source": [
    "# Función para distribución de variables categóricas\n",
    "def distribucion_categoricas(df, exclude_columns=None):\n",
    "    \"\"\"\n",
    "    Muestra la distribución de todas las columnas categóricas en el DataFrame,\n",
    "    exceptuando las especificadas en exclude_columns.\n",
    "    \n",
    "    Args:\n",
    "    df (pd.DataFrame): DataFrame a analizar.\n",
    "    exclude_columns (list): Lista de nombres de columnas a excluir del análisis.\n",
    "    \"\"\"\n",
    "    if exclude_columns is None:\n",
    "        exclude_columns = []\n",
    "        \n",
    "    # Filtrar columnas categóricas, excluyendo las que están en exclude_columns\n",
    "    categorical_columns = [col for col in df.select_dtypes(include=['object']).columns \n",
    "                           if col not in exclude_columns]\n",
    "    \n",
    "    # Graficar distribución de cada columna categórica\n",
    "    for column in categorical_columns:\n",
    "        plt.figure(figsize=(6, 2))\n",
    "        sns.countplot(data=df, x=column)\n",
    "        plt.title(f'Distribución de {column}')\n",
    "        plt.xticks(rotation=45)\n",
    "        plt.show()\n"
   ]
  },
  {
   "cell_type": "code",
   "execution_count": 69,
   "metadata": {},
   "outputs": [],
   "source": [
    "# Función para análisis temporal de churn\n",
    "def analisis_churn_temporal(df,end_column):\n",
    "    \"\"\"\n",
    "    Realiza un análisis temporal del churn basado en columnas de fecha de inicio y fecha de fin.\n",
    "    Muestra la cantidad de clientes que se dieron de baja por año.\n",
    "\n",
    "    Args:\n",
    "    df (pd.DataFrame): DataFrame a analizar.\n",
    "    start_column (str): Nombre de la columna de fecha de inicio en el DataFrame.\n",
    "    end_column (str): Nombre de la columna de fecha de baja en el DataFrame.\n",
    "    \"\"\"\n",
    "    \n",
    "    # Clientes que se dieron de baja por año\n",
    "    churn_by_year = df[end_column].dt.year.value_counts().sort_index()\n",
    "        \n",
    "    # Graficar la cantidad de clientes que se dieron de baja por año\n",
    "    plt.figure(figsize=(6, 2))\n",
    "    churn_by_year.plot(kind='bar', color='salmon')\n",
    "    plt.title(f'Cantidad de clientes que se dieron de baja por año ({end_column})')\n",
    "    plt.xlabel('Año')\n",
    "    plt.ylabel('Cantidad de bajas')\n",
    "    plt.show()\n"
   ]
  },
  {
   "cell_type": "code",
   "execution_count": 70,
   "metadata": {},
   "outputs": [
    {
     "data": {
      "image/png": "[encoded data removed]",
      "text/plain": [
       "<Figure size 600x200 with 1 Axes>"
      ]
     },
     "metadata": {},
     "output_type": "display_data"
    },
    {
     "data": {
      "image/png": "[encoded data removed]",
      "text/plain": [
       "<Figure size 600x200 with 1 Axes>"
      ]
     },
     "metadata": {},
     "output_type": "display_data"
    },
    {
     "data": {
      "image/png": "[encoded data removed]",
      "text/plain": [
       "<Figure size 600x200 with 1 Axes>"
      ]
     },
     "metadata": {},
     "output_type": "display_data"
    },
    {
     "data": {
      "image/png": "[encoded data removed]",
      "text/plain": [
       "<Figure size 600x200 with 1 Axes>"
      ]
     },
     "metadata": {},
     "output_type": "display_data"
    }
   ],
   "source": [
    "distribucion_numericas(contract)"
   ]
  },
  {
   "cell_type": "markdown",
   "metadata": {},
   "source": [
    "- En cuanto a los cargos mensuales vemos que la mayoría prefiere pagar los planes más económicos, aunque vemos distribuciones amplias, eso nos indica la gran variedad de planes mensuales que se ofrecen.\n",
    "- En cuanto a los cargos totales, vemos que está más concentrado hacia la parte baja y media, esto se espera, pues los clientes nuevos generarían menores cargos totales en un año, además de que los planes mensuales sean más usados."
   ]
  },
  {
   "cell_type": "code",
   "execution_count": 71,
   "metadata": {},
   "outputs": [
    {
     "data": {
      "image/png": "[encoded data removed]",
      "text/plain": [
       "<Figure size 600x200 with 1 Axes>"
      ]
     },
     "metadata": {},
     "output_type": "display_data"
    },
    {
     "data": {
      "image/png": "[encoded data removed]",
      "text/plain": [
       "<Figure size 600x200 with 1 Axes>"
      ]
     },
     "metadata": {},
     "output_type": "display_data"
    },
    {
     "data": {
      "image/png": "[encoded data removed]",
      "text/plain": [
       "<Figure size 600x200 with 1 Axes>"
      ]
     },
     "metadata": {},
     "output_type": "display_data"
    }
   ],
   "source": [
    "distribucion_categoricas(contract, exclude_columns=['customerID'])"
   ]
  },
  {
   "cell_type": "markdown",
   "metadata": {},
   "source": [
    "- Podemos observar que la gran mayoría prefiere planes mensuales los cuales les dan mayor flexibilidad en cancelar, sería beneficioso generar estrategia para retener a estos clientes.\n",
    "- También observamos que se prefiere la facturación electrónica, esto nos indicaría de una gran población joven que se tiene como clientes.\n",
    "- También observamos que la mayor preferencia de forma de pago es el método electrónico. "
   ]
  },
  {
   "cell_type": "code",
   "execution_count": 72,
   "metadata": {},
   "outputs": [
    {
     "data": {
      "image/png": "[encoded data removed]",
      "text/plain": [
       "<Figure size 600x200 with 1 Axes>"
      ]
     },
     "metadata": {},
     "output_type": "display_data"
    }
   ],
   "source": [
    "analisis_churn_temporal(contract,'EndDate')"
   ]
  },
  {
   "cell_type": "markdown",
   "metadata": {},
   "source": [
    "Observamos que los clientes que en su mayoría se dieron de baja es en el año 2019,  y en menor medida en el año 2020, esto puede deberse a que no se tienen tantos datos de este año, aunque podría ser por buenas estrategias de retención."
   ]
  },
  {
   "cell_type": "code",
   "execution_count": 73,
   "metadata": {},
   "outputs": [
    {
     "data": {
      "image/png": "[encoded data removed]",
      "text/plain": [
       "<Figure size 600x200 with 1 Axes>"
      ]
     },
     "metadata": {},
     "output_type": "display_data"
    },
    {
     "data": {
      "image/png": "[encoded data removed]",
      "text/plain": [
       "<Figure size 600x200 with 1 Axes>"
      ]
     },
     "metadata": {},
     "output_type": "display_data"
    }
   ],
   "source": [
    "distribucion_numericas(personal)"
   ]
  },
  {
   "cell_type": "markdown",
   "metadata": {},
   "source": [
    "Vemos que la gran mayoría son personas jóvenes y no personas mayores."
   ]
  },
  {
   "cell_type": "code",
   "execution_count": 74,
   "metadata": {},
   "outputs": [
    {
     "data": {
      "image/png": "[encoded data removed]",
      "text/plain": [
       "<Figure size 600x200 with 1 Axes>"
      ]
     },
     "metadata": {},
     "output_type": "display_data"
    },
    {
     "data": {
      "image/png": "[encoded data removed]",
      "text/plain": [
       "<Figure size 600x200 with 1 Axes>"
      ]
     },
     "metadata": {},
     "output_type": "display_data"
    },
    {
     "data": {
      "image/png": "[encoded data removed]",
      "text/plain": [
       "<Figure size 600x200 with 1 Axes>"
      ]
     },
     "metadata": {},
     "output_type": "display_data"
    }
   ],
   "source": [
    "distribucion_categoricas(personal, exclude_columns=['customerID'])"
   ]
  },
  {
   "cell_type": "markdown",
   "metadata": {},
   "source": [
    "Vemos que en cuanto a géneros las cantidades son parecidas para los clientes, al igual que los clientes que tienen parejas de los que no los tienen y vemos una diferencia en cuanto a las personas que tienen a alguien dependiente o a cargo de ellos siendo estos una tercera parte de todos los clientes.  "
   ]
  },
  {
   "cell_type": "code",
   "execution_count": 75,
   "metadata": {},
   "outputs": [
    {
     "data": {
      "image/png": "[encoded data removed]",
      "text/plain": [
       "<Figure size 600x200 with 1 Axes>"
      ]
     },
     "metadata": {},
     "output_type": "display_data"
    },
    {
     "data": {
      "image/png": "[encoded data removed]",
      "text/plain": [
       "<Figure size 600x200 with 1 Axes>"
      ]
     },
     "metadata": {},
     "output_type": "display_data"
    },
    {
     "data": {
      "image/png": "[encoded data removed]",
      "text/plain": [
       "<Figure size 600x200 with 1 Axes>"
      ]
     },
     "metadata": {},
     "output_type": "display_data"
    },
    {
     "data": {
      "image/png": "[encoded data removed]",
      "text/plain": [
       "<Figure size 600x200 with 1 Axes>"
      ]
     },
     "metadata": {},
     "output_type": "display_data"
    },
    {
     "data": {
      "image/png": "[encoded data removed]",
      "text/plain": [
       "<Figure size 600x200 with 1 Axes>"
      ]
     },
     "metadata": {},
     "output_type": "display_data"
    },
    {
     "data": {
      "image/png": "[encoded data removed]",
      "text/plain": [
       "<Figure size 600x200 with 1 Axes>"
      ]
     },
     "metadata": {},
     "output_type": "display_data"
    },
    {
     "data": {
      "image/png": "[encoded data removed]",
      "text/plain": [
       "<Figure size 600x200 with 1 Axes>"
      ]
     },
     "metadata": {},
     "output_type": "display_data"
    }
   ],
   "source": [
    "distribucion_categoricas(internet, exclude_columns=['customerID'])"
   ]
  },
  {
   "cell_type": "markdown",
   "metadata": {},
   "source": [
    "Podemos observar que los clientes prefieren más la fibra óptica, y la cantidad de los que contratan servicios de streaming son equivalentes a los que no lo hacen, observamos también que la mayoría prefiere no contratar servicios de protección contra virus o malware, también son más los que  no prefieren contratar servicios de respaldo en la nube."
   ]
  },
  {
   "cell_type": "code",
   "execution_count": 76,
   "metadata": {},
   "outputs": [
    {
     "data": {
      "image/png": "[encoded data removed]",
      "text/plain": [
       "<Figure size 600x200 with 1 Axes>"
      ]
     },
     "metadata": {},
     "output_type": "display_data"
    }
   ],
   "source": [
    "distribucion_categoricas(phone, exclude_columns=['customerID'])"
   ]
  },
  {
   "cell_type": "markdown",
   "metadata": {},
   "source": [
    "La mayoría de clientes no tienen multiples lines de teléfonos, esto podría deberse también a que no tienen personas dependientes a su cargo. "
   ]
  },
  {
   "cell_type": "markdown",
   "metadata": {},
   "source": [
    "#### UNIÓN DE DATAFRAMES Y CREACIÓN DE VARIABLE `Churn`"
   ]
  },
  {
   "cell_type": "code",
   "execution_count": 77,
   "metadata": {},
   "outputs": [],
   "source": [
    "# Integramos todos los DataFrames en uno solo para realizar un análisis más completo.\n",
    "data = contract.merge(personal, on='customerID', how='inner') \\\n",
    "               .merge(internet, on='customerID', how='inner') \\\n",
    "               .merge(phone, on='customerID', how='inner')\n"
   ]
  },
  {
   "cell_type": "code",
   "execution_count": 78,
   "metadata": {},
   "outputs": [],
   "source": [
    "# Crear columna `Churn`, asignando 1 a clientes con `EndDate` y 0 a los que tienen `NaT` en `EndDate`.\n",
    "data['Churn'] = data['EndDate'].notnull().astype(int)  # 1 si EndDate tiene valor, 0 si es NaT"
   ]
  },
  {
   "cell_type": "code",
   "execution_count": 79,
   "metadata": {},
   "outputs": [
    {
     "name": "stdout",
     "output_type": "stream",
     "text": [
      "<class 'pandas.core.frame.DataFrame'>\n",
      "RangeIndex: 4832 entries, 0 to 4831\n",
      "Data columns (total 21 columns):\n",
      " #   Column            Non-Null Count  Dtype         \n",
      "---  ------            --------------  -----         \n",
      " 0   customerID        4832 non-null   object        \n",
      " 1   BeginDate         4832 non-null   datetime64[ns]\n",
      " 2   EndDate           1586 non-null   datetime64[ns]\n",
      " 3   Type              4832 non-null   object        \n",
      " 4   PaperlessBilling  4832 non-null   object        \n",
      " 5   PaymentMethod     4832 non-null   object        \n",
      " 6   MonthlyCharges    4832 non-null   float64       \n",
      " 7   TotalCharges      4832 non-null   float64       \n",
      " 8   gender            4832 non-null   object        \n",
      " 9   SeniorCitizen     4832 non-null   int64         \n",
      " 10  Partner           4832 non-null   object        \n",
      " 11  Dependents        4832 non-null   object        \n",
      " 12  InternetService   4832 non-null   object        \n",
      " 13  OnlineSecurity    4832 non-null   object        \n",
      " 14  OnlineBackup      4832 non-null   object        \n",
      " 15  DeviceProtection  4832 non-null   object        \n",
      " 16  TechSupport       4832 non-null   object        \n",
      " 17  StreamingTV       4832 non-null   object        \n",
      " 18  StreamingMovies   4832 non-null   object        \n",
      " 19  MultipleLines     4832 non-null   object        \n",
      " 20  Churn             4832 non-null   int32         \n",
      "dtypes: datetime64[ns](2), float64(2), int32(1), int64(1), object(15)\n",
      "memory usage: 774.0+ KB\n"
     ]
    }
   ],
   "source": [
    "data.info()"
   ]
  },
  {
   "cell_type": "code",
   "execution_count": 80,
   "metadata": {},
   "outputs": [
    {
     "data": {
      "text/html": [
       "<div>\n",
       "<style scoped>\n",
       "    .dataframe tbody tr th:only-of-type {\n",
       "        vertical-align: middle;\n",
       "    }\n",
       "\n",
       "    .dataframe tbody tr th {\n",
       "        vertical-align: top;\n",
       "    }\n",
       "\n",
       "    .dataframe thead th {\n",
       "        text-align: right;\n",
       "    }\n",
       "</style>\n",
       "<table border=\"1\" class=\"dataframe\">\n",
       "  <thead>\n",
       "    <tr style=\"text-align: right;\">\n",
       "      <th></th>\n",
       "      <th>customerID</th>\n",
       "      <th>BeginDate</th>\n",
       "      <th>EndDate</th>\n",
       "      <th>Type</th>\n",
       "      <th>PaperlessBilling</th>\n",
       "      <th>PaymentMethod</th>\n",
       "      <th>MonthlyCharges</th>\n",
       "      <th>TotalCharges</th>\n",
       "      <th>gender</th>\n",
       "      <th>SeniorCitizen</th>\n",
       "      <th>...</th>\n",
       "      <th>Dependents</th>\n",
       "      <th>InternetService</th>\n",
       "      <th>OnlineSecurity</th>\n",
       "      <th>OnlineBackup</th>\n",
       "      <th>DeviceProtection</th>\n",
       "      <th>TechSupport</th>\n",
       "      <th>StreamingTV</th>\n",
       "      <th>StreamingMovies</th>\n",
       "      <th>MultipleLines</th>\n",
       "      <th>Churn</th>\n",
       "    </tr>\n",
       "  </thead>\n",
       "  <tbody>\n",
       "    <tr>\n",
       "      <th>0</th>\n",
       "      <td>5575-GNVDE</td>\n",
       "      <td>2017-04-01</td>\n",
       "      <td>NaT</td>\n",
       "      <td>One year</td>\n",
       "      <td>No</td>\n",
       "      <td>Mailed check</td>\n",
       "      <td>56.95</td>\n",
       "      <td>1889.50</td>\n",
       "      <td>Male</td>\n",
       "      <td>0</td>\n",
       "      <td>...</td>\n",
       "      <td>No</td>\n",
       "      <td>DSL</td>\n",
       "      <td>Yes</td>\n",
       "      <td>No</td>\n",
       "      <td>Yes</td>\n",
       "      <td>No</td>\n",
       "      <td>No</td>\n",
       "      <td>No</td>\n",
       "      <td>No</td>\n",
       "      <td>0</td>\n",
       "    </tr>\n",
       "    <tr>\n",
       "      <th>1</th>\n",
       "      <td>3668-QPYBK</td>\n",
       "      <td>2019-10-01</td>\n",
       "      <td>2019-12-01</td>\n",
       "      <td>Month-to-month</td>\n",
       "      <td>Yes</td>\n",
       "      <td>Mailed check</td>\n",
       "      <td>53.85</td>\n",
       "      <td>108.15</td>\n",
       "      <td>Male</td>\n",
       "      <td>0</td>\n",
       "      <td>...</td>\n",
       "      <td>No</td>\n",
       "      <td>DSL</td>\n",
       "      <td>Yes</td>\n",
       "      <td>Yes</td>\n",
       "      <td>No</td>\n",
       "      <td>No</td>\n",
       "      <td>No</td>\n",
       "      <td>No</td>\n",
       "      <td>No</td>\n",
       "      <td>1</td>\n",
       "    </tr>\n",
       "    <tr>\n",
       "      <th>2</th>\n",
       "      <td>9237-HQITU</td>\n",
       "      <td>2019-09-01</td>\n",
       "      <td>2019-11-01</td>\n",
       "      <td>Month-to-month</td>\n",
       "      <td>Yes</td>\n",
       "      <td>Electronic check</td>\n",
       "      <td>70.70</td>\n",
       "      <td>151.65</td>\n",
       "      <td>Female</td>\n",
       "      <td>0</td>\n",
       "      <td>...</td>\n",
       "      <td>No</td>\n",
       "      <td>Fiber optic</td>\n",
       "      <td>No</td>\n",
       "      <td>No</td>\n",
       "      <td>No</td>\n",
       "      <td>No</td>\n",
       "      <td>No</td>\n",
       "      <td>No</td>\n",
       "      <td>No</td>\n",
       "      <td>1</td>\n",
       "    </tr>\n",
       "    <tr>\n",
       "      <th>3</th>\n",
       "      <td>9305-CDSKC</td>\n",
       "      <td>2019-03-01</td>\n",
       "      <td>2019-11-01</td>\n",
       "      <td>Month-to-month</td>\n",
       "      <td>Yes</td>\n",
       "      <td>Electronic check</td>\n",
       "      <td>99.65</td>\n",
       "      <td>820.50</td>\n",
       "      <td>Female</td>\n",
       "      <td>0</td>\n",
       "      <td>...</td>\n",
       "      <td>No</td>\n",
       "      <td>Fiber optic</td>\n",
       "      <td>No</td>\n",
       "      <td>No</td>\n",
       "      <td>Yes</td>\n",
       "      <td>No</td>\n",
       "      <td>Yes</td>\n",
       "      <td>Yes</td>\n",
       "      <td>Yes</td>\n",
       "      <td>1</td>\n",
       "    </tr>\n",
       "    <tr>\n",
       "      <th>4</th>\n",
       "      <td>1452-KIOVK</td>\n",
       "      <td>2018-04-01</td>\n",
       "      <td>NaT</td>\n",
       "      <td>Month-to-month</td>\n",
       "      <td>Yes</td>\n",
       "      <td>Credit card (automatic)</td>\n",
       "      <td>89.10</td>\n",
       "      <td>1949.40</td>\n",
       "      <td>Male</td>\n",
       "      <td>0</td>\n",
       "      <td>...</td>\n",
       "      <td>Yes</td>\n",
       "      <td>Fiber optic</td>\n",
       "      <td>No</td>\n",
       "      <td>Yes</td>\n",
       "      <td>No</td>\n",
       "      <td>No</td>\n",
       "      <td>Yes</td>\n",
       "      <td>No</td>\n",
       "      <td>Yes</td>\n",
       "      <td>0</td>\n",
       "    </tr>\n",
       "    <tr>\n",
       "      <th>...</th>\n",
       "      <td>...</td>\n",
       "      <td>...</td>\n",
       "      <td>...</td>\n",
       "      <td>...</td>\n",
       "      <td>...</td>\n",
       "      <td>...</td>\n",
       "      <td>...</td>\n",
       "      <td>...</td>\n",
       "      <td>...</td>\n",
       "      <td>...</td>\n",
       "      <td>...</td>\n",
       "      <td>...</td>\n",
       "      <td>...</td>\n",
       "      <td>...</td>\n",
       "      <td>...</td>\n",
       "      <td>...</td>\n",
       "      <td>...</td>\n",
       "      <td>...</td>\n",
       "      <td>...</td>\n",
       "      <td>...</td>\n",
       "      <td>...</td>\n",
       "    </tr>\n",
       "    <tr>\n",
       "      <th>4827</th>\n",
       "      <td>8456-QDAVC</td>\n",
       "      <td>2018-07-01</td>\n",
       "      <td>NaT</td>\n",
       "      <td>Month-to-month</td>\n",
       "      <td>Yes</td>\n",
       "      <td>Bank transfer (automatic)</td>\n",
       "      <td>78.70</td>\n",
       "      <td>1495.10</td>\n",
       "      <td>Male</td>\n",
       "      <td>0</td>\n",
       "      <td>...</td>\n",
       "      <td>No</td>\n",
       "      <td>Fiber optic</td>\n",
       "      <td>No</td>\n",
       "      <td>No</td>\n",
       "      <td>No</td>\n",
       "      <td>No</td>\n",
       "      <td>Yes</td>\n",
       "      <td>No</td>\n",
       "      <td>No</td>\n",
       "      <td>0</td>\n",
       "    </tr>\n",
       "    <tr>\n",
       "      <th>4828</th>\n",
       "      <td>6840-RESVB</td>\n",
       "      <td>2018-02-01</td>\n",
       "      <td>NaT</td>\n",
       "      <td>One year</td>\n",
       "      <td>Yes</td>\n",
       "      <td>Mailed check</td>\n",
       "      <td>84.80</td>\n",
       "      <td>1990.50</td>\n",
       "      <td>Male</td>\n",
       "      <td>0</td>\n",
       "      <td>...</td>\n",
       "      <td>Yes</td>\n",
       "      <td>DSL</td>\n",
       "      <td>Yes</td>\n",
       "      <td>No</td>\n",
       "      <td>Yes</td>\n",
       "      <td>Yes</td>\n",
       "      <td>Yes</td>\n",
       "      <td>Yes</td>\n",
       "      <td>Yes</td>\n",
       "      <td>0</td>\n",
       "    </tr>\n",
       "    <tr>\n",
       "      <th>4829</th>\n",
       "      <td>2234-XADUH</td>\n",
       "      <td>2014-02-01</td>\n",
       "      <td>NaT</td>\n",
       "      <td>One year</td>\n",
       "      <td>Yes</td>\n",
       "      <td>Credit card (automatic)</td>\n",
       "      <td>103.20</td>\n",
       "      <td>7362.90</td>\n",
       "      <td>Female</td>\n",
       "      <td>0</td>\n",
       "      <td>...</td>\n",
       "      <td>Yes</td>\n",
       "      <td>Fiber optic</td>\n",
       "      <td>No</td>\n",
       "      <td>Yes</td>\n",
       "      <td>Yes</td>\n",
       "      <td>No</td>\n",
       "      <td>Yes</td>\n",
       "      <td>Yes</td>\n",
       "      <td>Yes</td>\n",
       "      <td>0</td>\n",
       "    </tr>\n",
       "    <tr>\n",
       "      <th>4830</th>\n",
       "      <td>8361-LTMKD</td>\n",
       "      <td>2019-07-01</td>\n",
       "      <td>2019-11-01</td>\n",
       "      <td>Month-to-month</td>\n",
       "      <td>Yes</td>\n",
       "      <td>Mailed check</td>\n",
       "      <td>74.40</td>\n",
       "      <td>306.60</td>\n",
       "      <td>Male</td>\n",
       "      <td>1</td>\n",
       "      <td>...</td>\n",
       "      <td>No</td>\n",
       "      <td>Fiber optic</td>\n",
       "      <td>No</td>\n",
       "      <td>No</td>\n",
       "      <td>No</td>\n",
       "      <td>No</td>\n",
       "      <td>No</td>\n",
       "      <td>No</td>\n",
       "      <td>Yes</td>\n",
       "      <td>1</td>\n",
       "    </tr>\n",
       "    <tr>\n",
       "      <th>4831</th>\n",
       "      <td>3186-AJIEK</td>\n",
       "      <td>2014-08-01</td>\n",
       "      <td>NaT</td>\n",
       "      <td>Two year</td>\n",
       "      <td>Yes</td>\n",
       "      <td>Bank transfer (automatic)</td>\n",
       "      <td>105.65</td>\n",
       "      <td>6844.50</td>\n",
       "      <td>Male</td>\n",
       "      <td>0</td>\n",
       "      <td>...</td>\n",
       "      <td>No</td>\n",
       "      <td>Fiber optic</td>\n",
       "      <td>Yes</td>\n",
       "      <td>No</td>\n",
       "      <td>Yes</td>\n",
       "      <td>Yes</td>\n",
       "      <td>Yes</td>\n",
       "      <td>Yes</td>\n",
       "      <td>No</td>\n",
       "      <td>0</td>\n",
       "    </tr>\n",
       "  </tbody>\n",
       "</table>\n",
       "<p>4832 rows × 21 columns</p>\n",
       "</div>"
      ],
      "text/plain": [
       "      customerID  BeginDate    EndDate            Type PaperlessBilling  \\\n",
       "0     5575-GNVDE 2017-04-01        NaT        One year               No   \n",
       "1     3668-QPYBK 2019-10-01 2019-12-01  Month-to-month              Yes   \n",
       "2     9237-HQITU 2019-09-01 2019-11-01  Month-to-month              Yes   \n",
       "3     9305-CDSKC 2019-03-01 2019-11-01  Month-to-month              Yes   \n",
       "4     1452-KIOVK 2018-04-01        NaT  Month-to-month              Yes   \n",
       "...          ...        ...        ...             ...              ...   \n",
       "4827  8456-QDAVC 2018-07-01        NaT  Month-to-month              Yes   \n",
       "4828  6840-RESVB 2018-02-01        NaT        One year              Yes   \n",
       "4829  2234-XADUH 2014-02-01        NaT        One year              Yes   \n",
       "4830  8361-LTMKD 2019-07-01 2019-11-01  Month-to-month              Yes   \n",
       "4831  3186-AJIEK 2014-08-01        NaT        Two year              Yes   \n",
       "\n",
       "                  PaymentMethod  MonthlyCharges  TotalCharges  gender  \\\n",
       "0                  Mailed check           56.95       1889.50    Male   \n",
       "1                  Mailed check           53.85        108.15    Male   \n",
       "2              Electronic check           70.70        151.65  Female   \n",
       "3              Electronic check           99.65        820.50  Female   \n",
       "4       Credit card (automatic)           89.10       1949.40    Male   \n",
       "...                         ...             ...           ...     ...   \n",
       "4827  Bank transfer (automatic)           78.70       1495.10    Male   \n",
       "4828               Mailed check           84.80       1990.50    Male   \n",
       "4829    Credit card (automatic)          103.20       7362.90  Female   \n",
       "4830               Mailed check           74.40        306.60    Male   \n",
       "4831  Bank transfer (automatic)          105.65       6844.50    Male   \n",
       "\n",
       "      SeniorCitizen  ... Dependents InternetService OnlineSecurity  \\\n",
       "0                 0  ...         No             DSL            Yes   \n",
       "1                 0  ...         No             DSL            Yes   \n",
       "2                 0  ...         No     Fiber optic             No   \n",
       "3                 0  ...         No     Fiber optic             No   \n",
       "4                 0  ...        Yes     Fiber optic             No   \n",
       "...             ...  ...        ...             ...            ...   \n",
       "4827              0  ...         No     Fiber optic             No   \n",
       "4828              0  ...        Yes             DSL            Yes   \n",
       "4829              0  ...        Yes     Fiber optic             No   \n",
       "4830              1  ...         No     Fiber optic             No   \n",
       "4831              0  ...         No     Fiber optic            Yes   \n",
       "\n",
       "     OnlineBackup DeviceProtection TechSupport StreamingTV StreamingMovies  \\\n",
       "0              No              Yes          No          No              No   \n",
       "1             Yes               No          No          No              No   \n",
       "2              No               No          No          No              No   \n",
       "3              No              Yes          No         Yes             Yes   \n",
       "4             Yes               No          No         Yes              No   \n",
       "...           ...              ...         ...         ...             ...   \n",
       "4827           No               No          No         Yes              No   \n",
       "4828           No              Yes         Yes         Yes             Yes   \n",
       "4829          Yes              Yes          No         Yes             Yes   \n",
       "4830           No               No          No          No              No   \n",
       "4831           No              Yes         Yes         Yes             Yes   \n",
       "\n",
       "     MultipleLines Churn  \n",
       "0               No     0  \n",
       "1               No     1  \n",
       "2               No     1  \n",
       "3              Yes     1  \n",
       "4              Yes     0  \n",
       "...            ...   ...  \n",
       "4827            No     0  \n",
       "4828           Yes     0  \n",
       "4829           Yes     0  \n",
       "4830           Yes     1  \n",
       "4831            No     0  \n",
       "\n",
       "[4832 rows x 21 columns]"
      ]
     },
     "execution_count": 80,
     "metadata": {},
     "output_type": "execute_result"
    }
   ],
   "source": [
    "data"
   ]
  },
  {
   "cell_type": "markdown",
   "metadata": {},
   "source": [
    "#### Analizaremos la variable Churn con otras características:"
   ]
  },
  {
   "cell_type": "code",
   "execution_count": 81,
   "metadata": {},
   "outputs": [
    {
     "data": {
      "image/png": "[encoded data removed]",
      "text/plain": [
       "<Figure size 600x400 with 1 Axes>"
      ]
     },
     "metadata": {},
     "output_type": "display_data"
    },
    {
     "name": "stdout",
     "output_type": "stream",
     "text": [
      "\n",
      "Churn\n",
      "0    3246\n",
      "1    1586\n",
      "Name: count, dtype: int64\n"
     ]
    },
    {
     "data": {
      "image/png": "[encoded data removed]",
      "text/plain": [
       "<Figure size 1100x500 with 2 Axes>"
      ]
     },
     "metadata": {},
     "output_type": "display_data"
    },
    {
     "data": {
      "image/png": "[encoded data removed]",
      "text/plain": [
       "<Figure size 1800x500 with 3 Axes>"
      ]
     },
     "metadata": {},
     "output_type": "display_data"
    },
    {
     "data": {
      "image/png": "[encoded data removed]",
      "text/plain": [
       "<Figure size 1200x1000 with 2 Axes>"
      ]
     },
     "metadata": {},
     "output_type": "display_data"
    },
    {
     "data": {
      "image/png": "[encoded data removed]",
      "text/plain": [
       "<Figure size 1000x600 with 1 Axes>"
      ]
     },
     "metadata": {},
     "output_type": "display_data"
    }
   ],
   "source": [
    "#Distribución de `Churn`\n",
    "\n",
    "fig, ax = plt.subplots(1, 1, figsize=(6, 4))\n",
    "sns.countplot(data=data, x='Churn', ax=ax)\n",
    "ax.set_title(\"Distribución de Churn (1 = Cancelado, 0 = Activo)\")\n",
    "ax.set_xlabel(\"Churn\")\n",
    "ax.set_ylabel(\"Cantidad de Clientes\")\n",
    "plt.show()\n",
    "print()\n",
    "print(data['Churn'].value_counts())\n",
    "\n",
    "# Relación entre Variables Numéricas y `Churn` (Boxplots)\n",
    "\n",
    "fig, axes = plt.subplots(1, 2, figsize=(11, 5))\n",
    "\n",
    "# MonthlyCharges\n",
    "sns.boxplot(x='Churn', y='MonthlyCharges', data=data, ax=axes[0])\n",
    "axes[0].set_title(\"Distribución de MonthlyCharges por Churn\")\n",
    "\n",
    "# TotalCharges\n",
    "sns.boxplot(x='Churn', y='TotalCharges', data=data, ax=axes[1])\n",
    "axes[1].set_title(\"Distribución de TotalCharges por Churn\")\n",
    "\n",
    "# Relación entre Variables Categóricas y `Churn` (Countplots)\n",
    "\n",
    "fig, axes = plt.subplots(1, 3, figsize=(18, 5))\n",
    "\n",
    "# Type (Tipo de contrato)\n",
    "sns.countplot(x='Type', hue='Churn', data=data, ax=axes[0])\n",
    "axes[0].set_title(\"Distribución de Type por Churn\")\n",
    "\n",
    "# PaymentMethod (Método de pago)\n",
    "sns.countplot(x='PaymentMethod', hue='Churn', data=data, ax=axes[1])\n",
    "axes[1].set_title(\"Distribución de PaymentMethod por Churn\")\n",
    "axes[1].tick_params(axis='x', rotation=45)\n",
    "\n",
    "# InternetService (Tipo de servicio de Internet)\n",
    "sns.countplot(x='InternetService', hue='Churn', data=data, ax=axes[2])\n",
    "axes[2].set_title(\"Distribución de InternetService por Churn\")\n",
    "\n",
    "plt.tight_layout()\n",
    "plt.show()\n",
    "\n",
    "# Matriz de Correlación con `Churn`\n",
    "\n",
    "# Seleccionar solo las columnas numéricas\n",
    "numeric_data = data.select_dtypes(include=['float64', 'int64'])\n",
    "\n",
    "# Matriz de Correlación con `Churn`\n",
    "plt.figure(figsize=(12, 10))\n",
    "sns.heatmap(numeric_data.corr(), annot=True, cmap=\"coolwarm\", center=0)\n",
    "plt.title(\"Matriz de Correlación con Churn\")\n",
    "plt.show()\n",
    "\n",
    "# Importancia de Características (Feature Importance) usando Bosque Aleatorio\n",
    "\n",
    "# Preparar los datos para el modelo\n",
    "X = data.drop(['Churn', 'customerID', 'BeginDate', 'EndDate'], axis=1)\n",
    "y = data['Churn']\n",
    "\n",
    "# Convertir variables categóricas a dummies\n",
    "X = pd.get_dummies(X, drop_first=True)\n",
    "\n",
    "# División de datos en entrenamiento y prueba\n",
    "X_train, X_test, y_train, y_test = train_test_split(X, y, test_size=0.2, random_state=42, stratify=y)\n",
    "\n",
    "# Entrenar un modelo simple de Bosque Aleatorio\n",
    "rf = RandomForestClassifier(random_state=42)\n",
    "rf.fit(X_train, y_train)\n",
    "\n",
    "# Mostrar la importancia de características\n",
    "importances = pd.Series(rf.feature_importances_, index=X.columns)\n",
    "importances = importances.sort_values(ascending=False)\n",
    "\n",
    "# Graficar las 10 características más importantes\n",
    "plt.figure(figsize=(10, 6))\n",
    "importances[:10].plot(kind='barh', color='teal')\n",
    "plt.title(\"Importancia de las Características para Predicción de Churn\")\n",
    "plt.xlabel(\"Importancia\")\n",
    "plt.ylabel(\"Características\")\n",
    "plt.show()\n"
   ]
  },
  {
   "cell_type": "markdown",
   "metadata": {},
   "source": [
    "Observaciones:\n",
    "- Los clientes activos son más de los que se dieron de baja, sin embargo, los que se dieron de baja son una tercera parte de todos los datos que tenemos.\n",
    "- Los cargos mensuales son parecidos para los clientes que continuan y los que se fueron, por lo que no se ven diferencias a simple vista.\n",
    "- Los cargos totales son mayores en clientes que no cancelaron, esto es normal, pues la permanencia a largo plazo sigue acumulándose, vemos que en la caja de los clientes que abandonaron se presentan valores atípicos, esto quizá por clientes que tenían mucho tiempo contratando el servicio conjuntamente con cargos mensuales altos, y que recientemente cancelaron.\n",
    "- Los planes mensuales tienen mayor tasa de cancelación, al igual que pagando por medio de cheques electrónicos y vemos que la fibra óptica tienen mayor tasa de cancelación, por lo que se debería de realizar mejorar este servicio.\n",
    "- Se observa que los cargos, ya sean mensuales o totales, tienen importancia para la elección en churn."
   ]
  },
  {
   "cell_type": "markdown",
   "metadata": {},
   "source": [
    "Veamos la cantidad de valores atípicos."
   ]
  },
  {
   "cell_type": "code",
   "execution_count": 82,
   "metadata": {},
   "outputs": [
    {
     "name": "stdout",
     "output_type": "stream",
     "text": [
      "Número de valores atípicos en 'TotalCharges' para churn = 1: 71\n"
     ]
    }
   ],
   "source": [
    "\n",
    "# Filtramos solo los clientes donde churn = 1\n",
    "churn_1_data = data[data['Churn'] == 1]\n",
    "\n",
    "# Calculamos el primer y tercer cuartil de TotalCharges solo para clientes churn = 1\n",
    "Q1 = churn_1_data['TotalCharges'].quantile(0.25)\n",
    "Q3 = churn_1_data['TotalCharges'].quantile(0.75)\n",
    "\n",
    "# Calculamos el IQR\n",
    "IQR = Q3 - Q1\n",
    "\n",
    "# Definimos los límites para valores atípicos\n",
    "lower_bound = Q1 - 1.5 * IQR\n",
    "upper_bound = Q3 + 1.5 * IQR\n",
    "\n",
    "# Filtramos los valores atípicos en TotalCharges para churn = 1\n",
    "outliers_churn_1 = churn_1_data[(churn_1_data['TotalCharges'] < lower_bound) | (churn_1_data['TotalCharges'] > upper_bound)]\n",
    "\n",
    "# Contamos los valores atípicos\n",
    "num_outliers_churn_1 = outliers_churn_1.shape[0]\n",
    "\n",
    "print(f\"Número de valores atípicos en 'TotalCharges' para churn = 1: {num_outliers_churn_1}\")\n",
    "\n"
   ]
  },
  {
   "cell_type": "markdown",
   "metadata": {},
   "source": [
    "Vemos que los valores atípicos son apenas 71, recordemos que anteriormente vimos que los clientes que cancelaron ascienden a 1586, por lo que no es significativa estas cantidades, y se deben a clientes que se mantuvieron contratados por largo tiempo y con cargos mensuales altos y le pusieron fin a su contrato."
   ]
  },
  {
   "cell_type": "markdown",
   "metadata": {},
   "source": [
    "## CREACIÓN DE MODELOS"
   ]
  },
  {
   "cell_type": "markdown",
   "metadata": {},
   "source": [
    "### Regresión Logística One-Hot Encoding"
   ]
  },
  {
   "cell_type": "code",
   "execution_count": 83,
   "metadata": {},
   "outputs": [],
   "source": [
    "# Eliminar columnas irrelevantes\n",
    "data = data.drop(['customerID', 'BeginDate', 'EndDate'], axis=1)\n",
    "\n",
    "# Convertir variables categóricas a One-Hot Encoding\n",
    "categorical_columns = ['Type', 'PaperlessBilling', 'PaymentMethod', 'gender', \n",
    "                       'Partner', 'Dependents', 'InternetService', 'OnlineSecurity',\n",
    "                       'OnlineBackup', 'DeviceProtection', 'TechSupport', 'StreamingTV', \n",
    "                       'StreamingMovies', 'MultipleLines']\n",
    "\n",
    "# Aplicar OHE y eliminar la primera columna para evitar colinealidad\n",
    "data_ohe = pd.get_dummies(data, columns=categorical_columns, drop_first=True)\n",
    "\n",
    "# Separar las características (X) y la variable objetivo (y)\n",
    "X = data_ohe.drop(columns=['Churn'], axis=1)\n",
    "y = data_ohe['Churn']\n",
    "\n",
    "# Dividir en conjunto de entrenamiento (70%) y conjunto temporal (30%)\n",
    "X_train, X_temp, y_train, y_temp = train_test_split(X, y, test_size=0.3, random_state=1234)\n",
    "\n",
    "# Dividir el conjunto temporal en validación (15%) y prueba (15%)\n",
    "X_valid, X_test, y_valid, y_test = train_test_split(X_temp, y_temp, test_size=0.5, random_state=1234)\n",
    "\n",
    "# Seleccionar solo las columnas numéricas que queremos estandarizar\n",
    "numeric = ['MonthlyCharges', 'TotalCharges', 'SeniorCitizen']\n",
    "scaler = StandardScaler()\n",
    "\n",
    "# Ajustar el escalador solo en el conjunto de entrenamiento\n",
    "scaler.fit(X_train[numeric])\n",
    "\n",
    "# Transformar las características numéricas en todos los conjuntos\n",
    "X_train[numeric] = scaler.transform(X_train[numeric])\n",
    "X_valid[numeric] = scaler.transform(X_valid[numeric])\n",
    "X_test[numeric] = scaler.transform(X_test[numeric])"
   ]
  },
  {
   "cell_type": "markdown",
   "metadata": {},
   "source": [
    "Realizamos los pasos para preparar los datos para el modelado de machine learning:\n",
    "- Eliminamos columnas irrelevantes (customerID, BeginDate, EndDate).\n",
    "- Luego aplicamos One-Hot para variables categóricas, eliminando la primera columna para evitar colinealidad.\n",
    "- Luego dividimos los datos en conjunto de entrenamiento, validación y prueba (80%-10%-10%).\n",
    "- Finalmente, estandarizamos caracteristicas numericas seleccionadas (MonthlyCharges, TotalCharges, SeniorCitizen)."
   ]
  },
  {
   "cell_type": "markdown",
   "metadata": {},
   "source": [
    "### Regresión Logística con balanceó"
   ]
  },
  {
   "cell_type": "code",
   "execution_count": 84,
   "metadata": {},
   "outputs": [
    {
     "name": "stdout",
     "output_type": "stream",
     "text": [
      "Regresión Logística - Exactitud en validación: 0.73\n",
      "Regresión Logística - AUC-ROC en validación: 0.82\n",
      "F1 Score en el conjunto de validación: 0.64\n",
      "\n",
      "Regresión Logística - Exactitud en prueba: 0.73\n",
      "Regresión Logística - AUC-ROC en prueba: 0.82\n",
      "F1 Score en el conjunto de prueba: 0.65\n"
     ]
    }
   ],
   "source": [
    "# Entrenar el modelo de regresión logística con balanceo\n",
    "model_lr_bal = LogisticRegression(random_state=12345, class_weight='balanced', solver='liblinear')\n",
    "model_lr_bal.fit(X_train, y_train)\n",
    "\n",
    "# Evaluar en el conjunto de validación\n",
    "predicted_valid_lr = model_lr_bal.predict(X_valid)\n",
    "probabilities_valid_lr = model_lr_bal.predict_proba(X_valid)[:, 1]\n",
    "\n",
    "accuracy_valid_lr = accuracy_score(y_valid, predicted_valid_lr)\n",
    "auc_roc_valid_lr = roc_auc_score(y_valid, probabilities_valid_lr)\n",
    "f1_val_lr = f1_score(y_valid, predicted_valid_lr)\n",
    "\n",
    "print(f\"Regresión Logística - Exactitud en validación: {accuracy_valid_lr:.2f}\")\n",
    "print(f\"Regresión Logística - AUC-ROC en validación: {auc_roc_valid_lr:.2f}\")\n",
    "print(f\"F1 Score en el conjunto de validación: {f1_val_lr:.2f}\")\n",
    "\n",
    "\n",
    "# Evaluar en el conjunto de prueba con balanceo \n",
    "predicted_test_lr = model_lr_bal.predict(X_test)\n",
    "probabilities_test_lr = model_lr_bal.predict_proba(X_test)[:, 1]\n",
    "\n",
    "accuracy_test_lr = accuracy_score(y_test, predicted_test_lr)\n",
    "auc_roc_test_lr = roc_auc_score(y_test, probabilities_test_lr)\n",
    "f1_test_lr = f1_score(y_test, predicted_test_lr)\n",
    "\n",
    "print(f\"\\nRegresión Logística - Exactitud en prueba: {accuracy_test_lr:.2f}\")\n",
    "print(f\"Regresión Logística - AUC-ROC en prueba: {auc_roc_test_lr:.2f}\")\n",
    "print(f\"F1 Score en el conjunto de prueba: {f1_test_lr:.2f}\")"
   ]
  },
  {
   "cell_type": "markdown",
   "metadata": {},
   "source": [
    "El modelo de regresión logística se balanceó con el hiperparámetro: class_weight='balanced'y solver='liblinear'.\n",
    "- Los resultados muestran una exactitud del 73% en ambos conjuntos, lo que indica una capacidad moderada para clasificar correctamente.\n",
    "- El AUC-ROC de 0.81 en validación y 0.82 nos dice que el modelo tiene una buena habilidad para distinguir entre las clases de Churn y no-Churn. Esto es positivo, ya que el AUC-ROC es un mejor indicador de desempeño en contextos de datos desbalanceados. \n",
    "- El F1 Score es de 0.65 que es un valor aceptable, pero que aún se podría mejorar, sin embargo, es lo que mejor se logró en regresión logística ajustando hiperparámetros."
   ]
  },
  {
   "cell_type": "markdown",
   "metadata": {},
   "source": [
    "### Regresión Logística con balanceó y ajustando el umbral para mejorar la exactitud"
   ]
  },
  {
   "cell_type": "code",
   "execution_count": 85,
   "metadata": {},
   "outputs": [
    {
     "name": "stdout",
     "output_type": "stream",
     "text": [
      "\n",
      "Mejor Threshold (Validación): 0.72\n",
      "Mejor Exactitud (Validación): 0.76\n",
      "Mejor F1 Score (Validación): 0.56\n",
      "AUC-ROC (Validación): 0.82\n",
      "\n",
      "Exactitud en prueba con mejor umbral: 0.77\n",
      "F1 Score en prueba con mejor umbral: 0.60\n",
      "AUC-ROC en prueba: 0.82\n"
     ]
    }
   ],
   "source": [
    "#MODIFICANDO UMBRAL PARA LA EXACTITUD\n",
    "\n",
    "# Entrenar el modelo de regresión logística\n",
    "model_lr = LogisticRegression(random_state=12345, solver='liblinear', class_weight='balanced')\n",
    "model_lr.fit(X_train, y_train)\n",
    "\n",
    "# Realizar predicciones en el conjunto de validación\n",
    "probabilities_valid_logi = model_lr.predict_proba(X_valid)[:, 1]\n",
    "probabilities_test_logi = model_lr.predict_proba(X_test)[:, 1]\n",
    "\n",
    "# Definir variables para el mejor umbral, exactitud y F1 Score en validación\n",
    "best_threshold_valid = 0\n",
    "best_accuracy_valid = 0\n",
    "best_f1_valid = 0\n",
    "\n",
    "# Evaluación en el conjunto de validación con ajuste de umbral\n",
    "for threshold in np.arange(0, 1.0, 0.02):\n",
    "    predicted_valid_logi_umbral = probabilities_valid_logi > threshold\n",
    "    accuracy_valid_umbral = accuracy_score(y_valid, predicted_valid_logi_umbral)\n",
    "    f1_valid_umbral = f1_score(y_valid, predicted_valid_logi_umbral)\n",
    "    \n",
    "    # Guardar el mejor umbral, su exactitud y F1 Score en validación\n",
    "    if accuracy_valid_umbral > best_accuracy_valid:\n",
    "        best_accuracy_valid = accuracy_valid_umbral\n",
    "        best_f1_valid = f1_valid_umbral\n",
    "        best_threshold_valid = threshold\n",
    "\n",
    "# Calcular AUC-ROC en el conjunto de validación (sin cambiar el umbral)\n",
    "auc_roc_logi_valid = roc_auc_score(y_valid, probabilities_valid_logi)\n",
    "\n",
    "print(f\"\\nMejor Threshold (Validación): {best_threshold_valid:.2f}\")\n",
    "print(f\"Mejor Exactitud (Validación): {best_accuracy_valid:.2f}\")\n",
    "print(f\"Mejor F1 Score (Validación): {best_f1_valid:.2f}\")\n",
    "print(f\"AUC-ROC (Validación): {auc_roc_logi_valid:.2f}\")\n",
    "\n",
    "# Evaluación en el conjunto de prueba usando el mejor umbral encontrado en validación\n",
    "predicted_test_logi_umbral = probabilities_test_logi > best_threshold_valid\n",
    "accuracy_test_umbral = accuracy_score(y_test, predicted_test_logi_umbral)\n",
    "f1_test_umbral = f1_score(y_test, predicted_test_logi_umbral)\n",
    "\n",
    "# Calcular AUC-ROC en el conjunto de prueba (sin cambiar el umbral)\n",
    "auc_roc_logi_test = roc_auc_score(y_test, probabilities_test_logi)\n",
    "\n",
    "print(f\"\\nExactitud en prueba con mejor umbral: {accuracy_test_umbral:.2f}\")\n",
    "print(f\"F1 Score en prueba con mejor umbral: {f1_test_umbral:.2f}\")\n",
    "print(f\"AUC-ROC en prueba: {auc_roc_logi_test:.2f}\")"
   ]
  },
  {
   "cell_type": "markdown",
   "metadata": {},
   "source": [
    "- La regresión logística con ajuste de umbral, mejoró la exactitud, pero se empeoró el F1 Score, esto por el problema de desbalance de clases en Churn."
   ]
  },
  {
   "cell_type": "markdown",
   "metadata": {},
   "source": [
    "### Árbol de Decisión  con balanceo "
   ]
  },
  {
   "cell_type": "code",
   "execution_count": 86,
   "metadata": {},
   "outputs": [
    {
     "name": "stdout",
     "output_type": "stream",
     "text": [
      "\n",
      "Mejor Threshold (Validación): 0.71\n",
      "Mejor Exactitud (Validación): 0.73\n",
      "AUC-ROC (Validación): 0.73\n",
      "Mejor F1 Score (Validación): 0.56\n",
      "\n",
      "Exactitud en prueba con mejor umbral: 0.71\n",
      "AUC-ROC en prueba: 0.70\n",
      "F1 Score en prueba con mejor umbral: 0.52\n"
     ]
    }
   ],
   "source": [
    "# Entrenar el modelo de Árbol de Decisión\n",
    "model_tree = DecisionTreeClassifier(\n",
    "    max_depth=10,            # Profundidad máxima del árbol\n",
    "    class_weight='balanced', # Ajuste de peso para clases desbalanceadas\n",
    "    random_state=12345      # Reproducibilidad\n",
    ")\n",
    "model_tree.fit(X_train, y_train)\n",
    "\n",
    "# Realizar predicciones en el conjunto de validación\n",
    "probabilities_valid_tree = model_tree.predict_proba(X_valid)[:, 1]\n",
    "\n",
    "# Inicializar variables para encontrar el mejor umbral\n",
    "best_threshold_valid = 0\n",
    "best_accuracy_valid = 0\n",
    "best_f1_valid = 0\n",
    "\n",
    "# Ajuste de umbral en el conjunto de validación\n",
    "for threshold in np.arange(0, 1.01, 0.01):\n",
    "    predicted_valid_tree_umbral = probabilities_valid_tree > threshold\n",
    "    accuracy_valid_umbral = accuracy_score(y_valid, predicted_valid_tree_umbral)\n",
    "    f1_valid_umbral = f1_score(y_valid, predicted_valid_tree_umbral)\n",
    "\n",
    "    # Actualizar mejor umbral basado en la exactitud\n",
    "    if accuracy_valid_umbral > best_accuracy_valid:\n",
    "        best_accuracy_valid = accuracy_valid_umbral\n",
    "        best_threshold_valid = threshold\n",
    "        best_f1_valid = f1_valid_umbral\n",
    "\n",
    "# Calcular AUC-ROC en el conjunto de validación (sin cambiar el umbral)\n",
    "auc_roc_tree_valid = roc_auc_score(y_valid, probabilities_valid_tree)\n",
    "\n",
    "print(f\"\\nMejor Threshold (Validación): {best_threshold_valid:.2f}\")\n",
    "print(f\"Mejor Exactitud (Validación): {best_accuracy_valid:.2f}\")\n",
    "print(f\"AUC-ROC (Validación): {auc_roc_tree_valid:.2f}\")\n",
    "print(f\"Mejor F1 Score (Validación): {best_f1_valid:.2f}\")\n",
    "\n",
    "# Evaluar en el conjunto de prueba con el mejor umbral\n",
    "probabilities_test_tree = model_tree.predict_proba(X_test)[:, 1]\n",
    "predicted_test_tree_umbral = probabilities_test_tree > best_threshold_valid\n",
    "\n",
    "# Calcular métricas en el conjunto de prueba\n",
    "accuracy_test_umbral = accuracy_score(y_test, predicted_test_tree_umbral)\n",
    "f1_test_umbral = f1_score(y_test, predicted_test_tree_umbral)\n",
    "auc_roc_tree_test = roc_auc_score(y_test, probabilities_test_tree)\n",
    "\n",
    "print(f\"\\nExactitud en prueba con mejor umbral: {accuracy_test_umbral:.2f}\")\n",
    "print(f\"AUC-ROC en prueba: {auc_roc_tree_test:.2f}\")\n",
    "print(f\"F1 Score en prueba con mejor umbral: {f1_test_umbral:.2f}\")\n"
   ]
  },
  {
   "cell_type": "markdown",
   "metadata": {},
   "source": [
    "- Aquí se ajustaron hiperparámetros para obtener el mejor rendimiento, sin embargo, los valores son peores que en la regresión logística, por lo que sería mejor implementar más modelos, pues el mayor problema sigue siendo el F1 Score."
   ]
  },
  {
   "cell_type": "markdown",
   "metadata": {},
   "source": [
    "### Bosque Aleatorio con balanceo"
   ]
  },
  {
   "cell_type": "code",
   "execution_count": 87,
   "metadata": {},
   "outputs": [
    {
     "name": "stdout",
     "output_type": "stream",
     "text": [
      "\n",
      "Mejor threshold en prueba: 0.58\n",
      "Mejor Exactitud en prueba con umbral ajustado: 0.77\n",
      "AUC-ROC en prueba: 0.82\n",
      "Mejor F1 Score en prueba con umbral ajustado: 0.66\n"
     ]
    }
   ],
   "source": [
    "# Entrenar el modelo de bosque aleatorio con ajuste de pesos de clase\n",
    "model_rf_class_weight = RandomForestClassifier(random_state=12345, max_depth=6, class_weight='balanced')\n",
    "model_rf_class_weight.fit(X_train, y_train)\n",
    "\n",
    "# Realizar predicciones en el conjunto de prueba\n",
    "probabilities_test_rf_class_weight = model_rf_class_weight.predict_proba(X_test)[:, 1]\n",
    "\n",
    "# Definir variables para el mejor umbral y su exactitud en prueba\n",
    "best_threshold_test = 0\n",
    "best_accuracy_test = 0\n",
    "best_f1_test = 0 \n",
    "\n",
    "# Evaluación en el conjunto de prueba con ajuste de umbral\n",
    "for threshold in np.arange(0, 0.92, 0.02):\n",
    "    predicted_test_forest_umbral = probabilities_test_rf_class_weight > threshold\n",
    "    accuracy_test_forest_umbral = accuracy_score(y_test, predicted_test_forest_umbral)\n",
    "    f1_test_forest_umbral = f1_score(y_test, predicted_test_forest_umbral)\n",
    "\n",
    "    # Guardar el mejor umbral y su exactitud en prueba\n",
    "    if accuracy_test_forest_umbral > best_accuracy_test:\n",
    "        best_accuracy_test = accuracy_test_forest_umbral\n",
    "        best_threshold_test = threshold\n",
    "        best_f1_test = f1_test_forest_umbral\n",
    "\n",
    "# Calcular AUC-ROC en el conjunto de prueba (sin cambiar el umbral)\n",
    "auc_roc_forest_test = roc_auc_score(y_test, probabilities_test_rf_class_weight)  \n",
    "\n",
    "print(f\"\\nMejor threshold en prueba: {best_threshold_test}\")\n",
    "print(f\"Mejor Exactitud en prueba con umbral ajustado: {best_accuracy_test:.2f}\")\n",
    "print(f\"AUC-ROC en prueba: {auc_roc_forest_test:.2f}\")\n",
    "print(f\"Mejor F1 Score en prueba con umbral ajustado: {best_f1_test:.2f}\")"
   ]
  },
  {
   "cell_type": "markdown",
   "metadata": {},
   "source": [
    "- Aquí obtenemos valores aceptables en F1 Score como es 0.66.\n",
    "- Los mejores valores son el AUC-ROC que nos da 0.82.\n",
    "- Todo ello se logró con el ajuste de hiperparámetros y ajuste de umbral.\n",
    "- Si bien tenemos resultados aceptables, se debería seguir buscando más modelos para obtener mejores resultados en las métricas de evaluación."
   ]
  },
  {
   "cell_type": "markdown",
   "metadata": {},
   "source": [
    "### CatBoost"
   ]
  },
  {
   "cell_type": "code",
   "execution_count": 88,
   "metadata": {},
   "outputs": [
    {
     "name": "stdout",
     "output_type": "stream",
     "text": [
      "0:\tlearn: 0.6755348\ttotal: 23.7ms\tremaining: 831ms\n",
      "10:\tlearn: 0.5756315\ttotal: 285ms\tremaining: 649ms\n",
      "20:\tlearn: 0.5408000\ttotal: 564ms\tremaining: 403ms\n",
      "30:\tlearn: 0.5226421\ttotal: 825ms\tremaining: 133ms\n",
      "35:\tlearn: 0.5176827\ttotal: 945ms\tremaining: 0us\n",
      "Métricas en Validación:\n",
      "AUC-ROC: 0.85, F1 Score: 0.70, Exactitud: 0.76\n",
      "Métricas en Prueba:\n",
      "AUC-ROC: 0.85, F1 Score: 0.71, Exactitud: 0.76\n"
     ]
    }
   ],
   "source": [
    "# Definir las columnas categóricas y la variable objetivo\n",
    "categorical_columns = ['Type', 'PaperlessBilling', 'PaymentMethod', 'gender', \n",
    "                       'Partner', 'Dependents', 'InternetService', 'OnlineSecurity',\n",
    "                       'OnlineBackup', 'DeviceProtection', 'TechSupport', 'StreamingTV', \n",
    "                       'StreamingMovies', 'MultipleLines']\n",
    "target_column = 'Churn'\n",
    "\n",
    "# Dividir las características y la variable objetivo\n",
    "X = data.drop(columns=[target_column])\n",
    "y = data[target_column]\n",
    "\n",
    "# Dividir los datos en entrenamiento, validación y prueba\n",
    "X_train, X_temp, y_train, y_temp = train_test_split(X, y, test_size=0.2, random_state=12345)\n",
    "X_valid, X_test, y_valid, y_test = train_test_split(X_temp, y_temp, test_size=0.5, random_state=12345)\n",
    "\n",
    "# Crear el modelo CatBoost con hiperparámetros ajustados\n",
    "model = CatBoostClassifier(\n",
    "    loss_function=\"Logloss\",\n",
    "    iterations=36,           # Más iteraciones para un mejor ajuste\n",
    "    learning_rate=0.1,        # Tasa de aprendizaje moderada\n",
    "    depth=7,                  # Profundidad para capturar relaciones relevantes\n",
    "    l2_leaf_reg=11,            # Regularización L2\n",
    "    bagging_temperature=1,    # Aleatoriedad moderada en el muestreo\n",
    "    random_strength=1,        # Aleatoriedad en la división de nodos\n",
    "    class_weights={0: 1, 1: 2},  # Peso extra para la clase minoritaria\n",
    "    random_seed=12345,\n",
    "    cat_features=categorical_columns,\n",
    "    verbose=10               # Mostrar progreso cada 10 iteraciones\n",
    ")\n",
    "\n",
    "# Entrenar el modelo en el conjunto de entrenamiento\n",
    "model.fit(X_train, y_train)\n",
    "\n",
    "# Predicciones y probabilidades para validación\n",
    "probabilities_valid = model.predict_proba(X_valid)[:, 1]\n",
    "predicted_valid = model.predict(X_valid)\n",
    "\n",
    "# Métricas en el conjunto de validación\n",
    "auc_roc_valid = roc_auc_score(y_valid, probabilities_valid)\n",
    "f1_valid = f1_score(y_valid, predicted_valid)\n",
    "accuracy_valid = accuracy_score(y_valid, predicted_valid)\n",
    "\n",
    "print(f\"Métricas en Validación:\\nAUC-ROC: {auc_roc_valid:.2f}, F1 Score: {f1_valid:.2f}, Exactitud: {accuracy_valid:.2f}\")\n",
    "\n",
    "# Predicciones y probabilidades para prueba\n",
    "probabilities_test = model.predict_proba(X_test)[:, 1]\n",
    "predicted_test = model.predict(X_test)\n",
    "\n",
    "# Métricas en el conjunto de prueba\n",
    "auc_roc_test = roc_auc_score(y_test, probabilities_test)\n",
    "f1_test = f1_score(y_test, predicted_test)\n",
    "accuracy_test = accuracy_score(y_test, predicted_test)\n",
    "\n",
    "print(f\"Métricas en Prueba:\\nAUC-ROC: {auc_roc_test:.2f}, F1 Score: {f1_test:.2f}, Exactitud: {accuracy_test:.2f}\")"
   ]
  },
  {
   "cell_type": "markdown",
   "metadata": {},
   "source": [
    "- Tanto en validación como en prueba, el AUC-ROC se mantiene en 0.85. Esto indica que el modelo tiene una capacidad para distinguir entre las clases positiva y negativa.\n",
    "- El F1 Score de 0.70 (validación) y 0.71 (prueba) se mejoró en comparación con otros modelos.\n",
    "- La exactitud del 76% en ambos conjuntos muestra que el modelo tiene un buen rendimiento general.\n",
    "- Las métricas son prácticamente iguales en validación y prueba, lo que sugiere que el modelo está bien ajustado y no sufre de sobreajuste.\n",
    "- La configuración de class_weights={0: 1, 1: 2} ayudó a manejar el desbalance de clases."
   ]
  },
  {
   "cell_type": "markdown",
   "metadata": {},
   "source": [
    "### ELECCION DEL MEJOR MODELO : CatBoost\n",
    "\n",
    "- El mejor modelo, luego de ver todas las métricas, es el modelo de potenciación de gradiente CatBoost, con unas métricas de evaluación para el conjunto de prueba de:\n",
    "AUC-ROC: 0.85, F1 Score: 0.71, Exactitud: 0.76.\n",
    "\n"
   ]
  },
  {
   "cell_type": "markdown",
   "metadata": {},
   "source": [
    "## CONCLUSIONES \n",
    "\n",
    "- Se analizaron las características de los datos, incluyendo valores faltantes, duplicados, y estadísticas descriptivas, preprocesamos los datos, se convirtieron las columnas categóricas en variables compatibles con los modelos.\n",
    "Se trató el desbalance de clases utilizando estrategias como class_weight. \n",
    "División del conjunto de datos: Se dividieron en entrenamiento, validación y prueba (70-15-15).\n",
    "- Entrenamos de múltiples modelos como, Regresión logística, árbol de decisión, bosque aleatorio y CatBoost.\n",
    "- Ajuste de hiperparámetros:\n",
    "Se probaron distintas profundidades, tasas de aprendizaje, y regularizaciones para CatBoost, se ajustaron umbrales para maximizar la exactitud, el F1 ScoreSe y calcularon las métricas principales (AUC-ROC, F1 Score y Exactitud).\n",
    "- El dataset tenía una cantidad significativamente menor de clientes que cancelaron (Churn = 1) en comparación con los que no cancelaron (Churn = 0), con ello tendríamos un problema de desbalance.\n",
    "- Los resultados muestran que estrategias como class_weight y el uso de modelos robustos como CatBoost ayudan a mitigar el impacto del desbalance, pero no lo eliminan por completo. Esto es evidente en los F1 Scores más bajos en comparación con otras métricas.\n",
    "- Ajustamos el umbral de decisión de los modelos para priorizar las métricas según los objetivos del negocio.\n",
    "- Probamos diferentes modelos como CatBoost, que maneja automáticamente datos categóricos.\n",
    "- Probar varios algoritmos, incluyendo regresión logística, árboles de decisión, bosque aleatorio y CatBoost, permitió identificar las fortalezas y debilidades de cada uno.\n",
    "- Especialmente para CatBoost, ajustar parámetros como iterations, learning_rate, y depth resultó clave para alcanzar métricas de alta calidad.\n",
    "- Modificar el umbral de decisión en función de la métrica objetivo (F1 Score, exactitud) mejoró el rendimiento en validación y prueba.\n",
    "- La regresión logística balanceada alcanza un AUC-ROC de 0.82, lo que indica que discrimina bien entre clases. Sin embargo, su F1 Score (0.65) es más bajo que CatBoost, mostrando que tiene dificultades para manejar la clase minoritaria (clientes que cancelan).\n",
    "- Con un AUC-ROC de 0.70 y F1 Score de 0.52 en el conjunto de prueba, los árboles de decisión tienen el peor desempeño general. Esto sugiere que son menos efectivos para capturar relaciones complejas en los datos y que tienden a sobreajustarse si no se regulan bien.\n",
    "- Con un AUC-ROC de 0.82, F1 Score de 0.66 y Exactitud de 0.77 en el conjunto de prueba, el bosque aleatorio es competitivo. Sin embargo, no alcanza el nivel de CatBoost, probablemente porque no optimiza de manera tan efectiva las características categóricas.\n",
    "- Con un AUC-ROC de 0.85, F1 Score de 0.71 y Exactitud de 0.76 en el conjunto de prueba, CatBoost supera a los otros modelos en todas las métricas clave. Esto sugiere que su capacidad para manejar datos categóricos y sus optimizaciones internas lo hacen ideal para este proyecto."
   ]
  }
 ],
 "metadata": {
  "ExecuteTimeLog": [
   {
    "duration": 1548,
    "start_time": "2024-11-08T02:10:44.787Z"
   },
   {
    "duration": 0,
    "start_time": "2024-11-08T02:10:46.339Z"
   },
   {
    "duration": 0,
    "start_time": "2024-11-08T02:10:46.343Z"
   },
   {
    "duration": 0,
    "start_time": "2024-11-08T02:10:46.344Z"
   },
   {
    "duration": 0,
    "start_time": "2024-11-08T02:10:46.345Z"
   },
   {
    "duration": 0,
    "start_time": "2024-11-08T02:10:46.346Z"
   },
   {
    "duration": 0,
    "start_time": "2024-11-08T02:10:46.348Z"
   },
   {
    "duration": 0,
    "start_time": "2024-11-08T02:10:46.349Z"
   },
   {
    "duration": 0,
    "start_time": "2024-11-08T02:10:46.350Z"
   },
   {
    "duration": 0,
    "start_time": "2024-11-08T02:10:46.352Z"
   },
   {
    "duration": 0,
    "start_time": "2024-11-08T02:10:46.353Z"
   },
   {
    "duration": 0,
    "start_time": "2024-11-08T02:10:46.354Z"
   },
   {
    "duration": 0,
    "start_time": "2024-11-08T02:10:46.355Z"
   },
   {
    "duration": 0,
    "start_time": "2024-11-08T02:10:46.456Z"
   },
   {
    "duration": 0,
    "start_time": "2024-11-08T02:10:46.457Z"
   },
   {
    "duration": 0,
    "start_time": "2024-11-08T02:10:46.459Z"
   },
   {
    "duration": 0,
    "start_time": "2024-11-08T02:10:46.460Z"
   },
   {
    "duration": 0,
    "start_time": "2024-11-08T02:10:46.461Z"
   },
   {
    "duration": 0,
    "start_time": "2024-11-08T02:10:46.462Z"
   },
   {
    "duration": 0,
    "start_time": "2024-11-08T02:10:46.463Z"
   },
   {
    "duration": 0,
    "start_time": "2024-11-08T02:10:46.464Z"
   },
   {
    "duration": 0,
    "start_time": "2024-11-08T02:10:46.465Z"
   },
   {
    "duration": 0,
    "start_time": "2024-11-08T02:10:46.466Z"
   },
   {
    "duration": 0,
    "start_time": "2024-11-08T02:10:46.467Z"
   },
   {
    "duration": 0,
    "start_time": "2024-11-08T02:10:46.467Z"
   },
   {
    "duration": 143,
    "start_time": "2024-11-08T02:11:00.771Z"
   },
   {
    "duration": 4,
    "start_time": "2024-11-08T02:11:00.917Z"
   },
   {
    "duration": 61,
    "start_time": "2024-11-08T02:11:00.923Z"
   },
   {
    "duration": 57,
    "start_time": "2024-11-08T02:11:00.987Z"
   },
   {
    "duration": 202,
    "start_time": "2024-11-08T02:11:01.048Z"
   },
   {
    "duration": 33,
    "start_time": "2024-11-08T02:11:01.251Z"
   },
   {
    "duration": 23,
    "start_time": "2024-11-08T02:11:01.285Z"
   },
   {
    "duration": 32,
    "start_time": "2024-11-08T02:11:01.310Z"
   },
   {
    "duration": 4,
    "start_time": "2024-11-08T02:11:01.345Z"
   },
   {
    "duration": 3,
    "start_time": "2024-11-08T02:11:01.353Z"
   },
   {
    "duration": 634,
    "start_time": "2024-11-08T02:11:01.358Z"
   },
   {
    "duration": 268,
    "start_time": "2024-11-08T02:11:01.994Z"
   },
   {
    "duration": 87,
    "start_time": "2024-11-08T02:11:02.264Z"
   },
   {
    "duration": 338,
    "start_time": "2024-11-08T02:11:02.353Z"
   },
   {
    "duration": 213,
    "start_time": "2024-11-08T02:11:02.694Z"
   },
   {
    "duration": 1146,
    "start_time": "2024-11-08T02:13:54.713Z"
   },
   {
    "duration": 4,
    "start_time": "2024-11-08T02:13:55.862Z"
   },
   {
    "duration": 51,
    "start_time": "2024-11-08T02:13:55.867Z"
   },
   {
    "duration": 49,
    "start_time": "2024-11-08T02:13:55.919Z"
   },
   {
    "duration": 202,
    "start_time": "2024-11-08T02:13:55.972Z"
   },
   {
    "duration": 33,
    "start_time": "2024-11-08T02:13:56.176Z"
   },
   {
    "duration": 44,
    "start_time": "2024-11-08T02:13:56.210Z"
   },
   {
    "duration": 4,
    "start_time": "2024-11-08T02:13:56.256Z"
   },
   {
    "duration": 5,
    "start_time": "2024-11-08T02:13:56.262Z"
   },
   {
    "duration": 4,
    "start_time": "2024-11-08T02:13:56.269Z"
   },
   {
    "duration": 602,
    "start_time": "2024-11-08T02:13:56.275Z"
   },
   {
    "duration": 255,
    "start_time": "2024-11-08T02:13:56.879Z"
   },
   {
    "duration": 88,
    "start_time": "2024-11-08T02:13:57.136Z"
   },
   {
    "duration": 326,
    "start_time": "2024-11-08T02:13:57.227Z"
   },
   {
    "duration": 288,
    "start_time": "2024-11-08T02:13:57.555Z"
   },
   {
    "duration": 7,
    "start_time": "2024-11-08T02:14:02.989Z"
   },
   {
    "duration": 18,
    "start_time": "2024-11-08T02:14:10.602Z"
   },
   {
    "duration": 8,
    "start_time": "2024-11-08T02:16:11.411Z"
   },
   {
    "duration": 69,
    "start_time": "2024-11-08T02:16:19.672Z"
   },
   {
    "duration": 153,
    "start_time": "2024-11-08T02:16:29.967Z"
   },
   {
    "duration": 11,
    "start_time": "2024-11-08T02:16:46.743Z"
   },
   {
    "duration": 17,
    "start_time": "2024-11-08T02:16:52.816Z"
   },
   {
    "duration": 8,
    "start_time": "2024-11-08T02:17:00.205Z"
   },
   {
    "duration": 108,
    "start_time": "2024-11-08T02:18:01.268Z"
   },
   {
    "duration": 13,
    "start_time": "2024-11-08T02:18:01.391Z"
   },
   {
    "duration": 15,
    "start_time": "2024-11-08T02:18:01.550Z"
   },
   {
    "duration": 14,
    "start_time": "2024-11-08T02:18:01.684Z"
   },
   {
    "duration": 12,
    "start_time": "2024-11-08T02:18:03.568Z"
   },
   {
    "duration": 111,
    "start_time": "2024-11-08T02:18:03.845Z"
   },
   {
    "duration": 17,
    "start_time": "2024-11-08T02:18:04.614Z"
   },
   {
    "duration": 3572,
    "start_time": "2024-11-08T02:36:33.338Z"
   },
   {
    "duration": 5,
    "start_time": "2024-11-08T02:36:36.912Z"
   },
   {
    "duration": 77,
    "start_time": "2024-11-08T02:36:36.920Z"
   },
   {
    "duration": 48,
    "start_time": "2024-11-08T02:36:36.999Z"
   },
   {
    "duration": 194,
    "start_time": "2024-11-08T02:36:37.054Z"
   },
   {
    "duration": 44,
    "start_time": "2024-11-08T02:36:37.250Z"
   },
   {
    "duration": 21,
    "start_time": "2024-11-08T02:36:37.298Z"
   },
   {
    "duration": 11,
    "start_time": "2024-11-08T02:36:37.324Z"
   },
   {
    "duration": 5,
    "start_time": "2024-11-08T02:36:37.341Z"
   },
   {
    "duration": 6,
    "start_time": "2024-11-08T02:36:37.348Z"
   },
   {
    "duration": 719,
    "start_time": "2024-11-08T02:36:37.356Z"
   },
   {
    "duration": 321,
    "start_time": "2024-11-08T02:36:38.076Z"
   },
   {
    "duration": 101,
    "start_time": "2024-11-08T02:36:38.399Z"
   },
   {
    "duration": 401,
    "start_time": "2024-11-08T02:36:38.504Z"
   },
   {
    "duration": 269,
    "start_time": "2024-11-08T02:36:38.908Z"
   },
   {
    "duration": 2974,
    "start_time": "2024-11-08T07:29:51.312Z"
   },
   {
    "duration": 5,
    "start_time": "2024-11-08T07:29:54.288Z"
   },
   {
    "duration": 65,
    "start_time": "2024-11-08T07:29:54.295Z"
   },
   {
    "duration": 37,
    "start_time": "2024-11-08T07:29:54.363Z"
   },
   {
    "duration": 209,
    "start_time": "2024-11-08T07:29:54.402Z"
   },
   {
    "duration": 51,
    "start_time": "2024-11-08T07:29:54.613Z"
   },
   {
    "duration": 24,
    "start_time": "2024-11-08T07:29:54.666Z"
   },
   {
    "duration": 4,
    "start_time": "2024-11-08T07:29:54.692Z"
   },
   {
    "duration": 5,
    "start_time": "2024-11-08T07:29:54.697Z"
   },
   {
    "duration": 4,
    "start_time": "2024-11-08T07:29:54.705Z"
   },
   {
    "duration": 765,
    "start_time": "2024-11-08T07:29:54.710Z"
   },
   {
    "duration": 261,
    "start_time": "2024-11-08T07:29:55.477Z"
   },
   {
    "duration": 83,
    "start_time": "2024-11-08T07:29:55.744Z"
   },
   {
    "duration": 337,
    "start_time": "2024-11-08T07:29:55.829Z"
   },
   {
    "duration": 218,
    "start_time": "2024-11-08T07:29:56.168Z"
   },
   {
    "duration": 7,
    "start_time": "2024-11-08T07:34:18.702Z"
   },
   {
    "duration": 1212,
    "start_time": "2024-11-08T07:34:29.843Z"
   },
   {
    "duration": 4,
    "start_time": "2024-11-08T07:34:39.589Z"
   },
   {
    "duration": 4,
    "start_time": "2024-11-08T07:34:59.016Z"
   },
   {
    "duration": 4,
    "start_time": "2024-11-08T07:35:18.708Z"
   },
   {
    "duration": 2970,
    "start_time": "2024-11-09T05:03:56.168Z"
   },
   {
    "duration": 4,
    "start_time": "2024-11-09T05:03:59.141Z"
   },
   {
    "duration": 58,
    "start_time": "2024-11-09T05:03:59.147Z"
   },
   {
    "duration": 50,
    "start_time": "2024-11-09T05:03:59.208Z"
   },
   {
    "duration": 179,
    "start_time": "2024-11-09T05:03:59.260Z"
   },
   {
    "duration": 31,
    "start_time": "2024-11-09T05:03:59.441Z"
   },
   {
    "duration": 23,
    "start_time": "2024-11-09T05:03:59.474Z"
   },
   {
    "duration": 26,
    "start_time": "2024-11-09T05:03:59.499Z"
   },
   {
    "duration": 5,
    "start_time": "2024-11-09T05:03:59.526Z"
   },
   {
    "duration": 4,
    "start_time": "2024-11-09T05:03:59.534Z"
   },
   {
    "duration": 621,
    "start_time": "2024-11-09T05:03:59.540Z"
   },
   {
    "duration": 313,
    "start_time": "2024-11-09T05:04:00.163Z"
   },
   {
    "duration": 99,
    "start_time": "2024-11-09T05:04:00.477Z"
   },
   {
    "duration": 286,
    "start_time": "2024-11-09T05:04:00.578Z"
   },
   {
    "duration": 211,
    "start_time": "2024-11-09T05:04:00.866Z"
   },
   {
    "duration": 1544,
    "start_time": "2024-11-09T05:04:54.131Z"
   },
   {
    "duration": 0,
    "start_time": "2024-11-09T05:04:55.678Z"
   },
   {
    "duration": 0,
    "start_time": "2024-11-09T05:04:55.679Z"
   },
   {
    "duration": 0,
    "start_time": "2024-11-09T05:04:55.680Z"
   },
   {
    "duration": 0,
    "start_time": "2024-11-09T05:04:55.681Z"
   },
   {
    "duration": 0,
    "start_time": "2024-11-09T05:04:55.682Z"
   },
   {
    "duration": 0,
    "start_time": "2024-11-09T05:04:55.683Z"
   },
   {
    "duration": 0,
    "start_time": "2024-11-09T05:04:55.684Z"
   },
   {
    "duration": 0,
    "start_time": "2024-11-09T05:04:55.685Z"
   },
   {
    "duration": 0,
    "start_time": "2024-11-09T05:04:55.686Z"
   },
   {
    "duration": 0,
    "start_time": "2024-11-09T05:04:55.687Z"
   },
   {
    "duration": 0,
    "start_time": "2024-11-09T05:04:55.688Z"
   },
   {
    "duration": 0,
    "start_time": "2024-11-09T05:04:55.769Z"
   },
   {
    "duration": 0,
    "start_time": "2024-11-09T05:04:55.770Z"
   },
   {
    "duration": 0,
    "start_time": "2024-11-09T05:04:55.771Z"
   },
   {
    "duration": 0,
    "start_time": "2024-11-09T05:04:55.772Z"
   },
   {
    "duration": 0,
    "start_time": "2024-11-09T05:04:55.773Z"
   },
   {
    "duration": 0,
    "start_time": "2024-11-09T05:04:55.774Z"
   },
   {
    "duration": 0,
    "start_time": "2024-11-09T05:04:55.776Z"
   },
   {
    "duration": 0,
    "start_time": "2024-11-09T05:04:55.778Z"
   },
   {
    "duration": 0,
    "start_time": "2024-11-09T05:04:55.778Z"
   },
   {
    "duration": 0,
    "start_time": "2024-11-09T05:04:55.780Z"
   },
   {
    "duration": 0,
    "start_time": "2024-11-09T05:04:55.780Z"
   },
   {
    "duration": 0,
    "start_time": "2024-11-09T05:04:55.782Z"
   },
   {
    "duration": 0,
    "start_time": "2024-11-09T05:04:55.782Z"
   },
   {
    "duration": 101,
    "start_time": "2024-11-09T05:05:10.097Z"
   },
   {
    "duration": 1107,
    "start_time": "2024-11-09T05:05:16.987Z"
   },
   {
    "duration": 4,
    "start_time": "2024-11-09T05:05:18.096Z"
   },
   {
    "duration": 72,
    "start_time": "2024-11-09T05:05:18.103Z"
   },
   {
    "duration": 54,
    "start_time": "2024-11-09T05:05:18.177Z"
   },
   {
    "duration": 199,
    "start_time": "2024-11-09T05:05:18.234Z"
   },
   {
    "duration": 32,
    "start_time": "2024-11-09T05:05:18.435Z"
   },
   {
    "duration": 22,
    "start_time": "2024-11-09T05:05:18.469Z"
   },
   {
    "duration": 5,
    "start_time": "2024-11-09T05:05:18.492Z"
   },
   {
    "duration": 28,
    "start_time": "2024-11-09T05:05:18.498Z"
   },
   {
    "duration": 4,
    "start_time": "2024-11-09T05:05:18.528Z"
   },
   {
    "duration": 629,
    "start_time": "2024-11-09T05:05:18.534Z"
   },
   {
    "duration": 273,
    "start_time": "2024-11-09T05:05:19.164Z"
   },
   {
    "duration": 85,
    "start_time": "2024-11-09T05:05:19.439Z"
   },
   {
    "duration": 335,
    "start_time": "2024-11-09T05:05:19.527Z"
   },
   {
    "duration": 277,
    "start_time": "2024-11-09T05:05:19.864Z"
   },
   {
    "duration": 1561,
    "start_time": "2024-11-09T05:07:51.896Z"
   },
   {
    "duration": 0,
    "start_time": "2024-11-09T05:07:53.459Z"
   },
   {
    "duration": 0,
    "start_time": "2024-11-09T05:07:53.464Z"
   },
   {
    "duration": 0,
    "start_time": "2024-11-09T05:07:53.465Z"
   },
   {
    "duration": 0,
    "start_time": "2024-11-09T05:07:53.466Z"
   },
   {
    "duration": 0,
    "start_time": "2024-11-09T05:07:53.468Z"
   },
   {
    "duration": 0,
    "start_time": "2024-11-09T05:07:53.469Z"
   },
   {
    "duration": 0,
    "start_time": "2024-11-09T05:07:53.470Z"
   },
   {
    "duration": 0,
    "start_time": "2024-11-09T05:07:53.472Z"
   },
   {
    "duration": 0,
    "start_time": "2024-11-09T05:07:53.473Z"
   },
   {
    "duration": 0,
    "start_time": "2024-11-09T05:07:53.474Z"
   },
   {
    "duration": 0,
    "start_time": "2024-11-09T05:07:53.475Z"
   },
   {
    "duration": 0,
    "start_time": "2024-11-09T05:07:53.477Z"
   },
   {
    "duration": 0,
    "start_time": "2024-11-09T05:07:53.571Z"
   },
   {
    "duration": 0,
    "start_time": "2024-11-09T05:07:53.573Z"
   },
   {
    "duration": 0,
    "start_time": "2024-11-09T05:07:53.573Z"
   },
   {
    "duration": 0,
    "start_time": "2024-11-09T05:07:53.575Z"
   },
   {
    "duration": 0,
    "start_time": "2024-11-09T05:07:53.576Z"
   },
   {
    "duration": 0,
    "start_time": "2024-11-09T05:07:53.578Z"
   },
   {
    "duration": 0,
    "start_time": "2024-11-09T05:07:53.579Z"
   },
   {
    "duration": 0,
    "start_time": "2024-11-09T05:07:53.581Z"
   },
   {
    "duration": 0,
    "start_time": "2024-11-09T05:07:53.582Z"
   },
   {
    "duration": 0,
    "start_time": "2024-11-09T05:07:53.584Z"
   },
   {
    "duration": 0,
    "start_time": "2024-11-09T05:07:53.586Z"
   },
   {
    "duration": 0,
    "start_time": "2024-11-09T05:07:53.587Z"
   },
   {
    "duration": 107,
    "start_time": "2024-11-09T05:08:13.338Z"
   },
   {
    "duration": 1586,
    "start_time": "2024-11-09T05:11:40.033Z"
   },
   {
    "duration": 7,
    "start_time": "2024-11-09T05:11:41.621Z"
   },
   {
    "duration": 75,
    "start_time": "2024-11-09T05:11:41.631Z"
   },
   {
    "duration": 43,
    "start_time": "2024-11-09T05:11:41.708Z"
   },
   {
    "duration": 239,
    "start_time": "2024-11-09T05:11:41.755Z"
   },
   {
    "duration": 44,
    "start_time": "2024-11-09T05:11:41.995Z"
   },
   {
    "duration": 33,
    "start_time": "2024-11-09T05:11:42.041Z"
   },
   {
    "duration": 4,
    "start_time": "2024-11-09T05:11:42.076Z"
   },
   {
    "duration": 5,
    "start_time": "2024-11-09T05:11:42.081Z"
   },
   {
    "duration": 6,
    "start_time": "2024-11-09T05:11:42.088Z"
   },
   {
    "duration": 727,
    "start_time": "2024-11-09T05:11:42.096Z"
   },
   {
    "duration": 289,
    "start_time": "2024-11-09T05:11:42.825Z"
   },
   {
    "duration": 105,
    "start_time": "2024-11-09T05:11:43.116Z"
   },
   {
    "duration": 349,
    "start_time": "2024-11-09T05:11:43.224Z"
   },
   {
    "duration": 457,
    "start_time": "2024-11-09T05:11:43.576Z"
   },
   {
    "duration": 1569,
    "start_time": "2024-11-09T05:13:52.740Z"
   },
   {
    "duration": 0,
    "start_time": "2024-11-09T05:13:54.312Z"
   },
   {
    "duration": 0,
    "start_time": "2024-11-09T05:13:54.313Z"
   },
   {
    "duration": 0,
    "start_time": "2024-11-09T05:13:54.314Z"
   },
   {
    "duration": 0,
    "start_time": "2024-11-09T05:13:54.315Z"
   },
   {
    "duration": 0,
    "start_time": "2024-11-09T05:13:54.316Z"
   },
   {
    "duration": 0,
    "start_time": "2024-11-09T05:13:54.317Z"
   },
   {
    "duration": 0,
    "start_time": "2024-11-09T05:13:54.318Z"
   },
   {
    "duration": 0,
    "start_time": "2024-11-09T05:13:54.324Z"
   },
   {
    "duration": 0,
    "start_time": "2024-11-09T05:13:54.325Z"
   },
   {
    "duration": 0,
    "start_time": "2024-11-09T05:13:54.326Z"
   },
   {
    "duration": 0,
    "start_time": "2024-11-09T05:13:54.327Z"
   },
   {
    "duration": 0,
    "start_time": "2024-11-09T05:13:54.404Z"
   },
   {
    "duration": 0,
    "start_time": "2024-11-09T05:13:54.405Z"
   },
   {
    "duration": 0,
    "start_time": "2024-11-09T05:13:54.406Z"
   },
   {
    "duration": 0,
    "start_time": "2024-11-09T05:13:54.426Z"
   },
   {
    "duration": 0,
    "start_time": "2024-11-09T05:13:54.428Z"
   },
   {
    "duration": 0,
    "start_time": "2024-11-09T05:13:54.429Z"
   },
   {
    "duration": 0,
    "start_time": "2024-11-09T05:13:54.430Z"
   },
   {
    "duration": 0,
    "start_time": "2024-11-09T05:13:54.431Z"
   },
   {
    "duration": 0,
    "start_time": "2024-11-09T05:13:54.432Z"
   },
   {
    "duration": 0,
    "start_time": "2024-11-09T05:13:54.433Z"
   },
   {
    "duration": 0,
    "start_time": "2024-11-09T05:13:54.434Z"
   },
   {
    "duration": 0,
    "start_time": "2024-11-09T05:13:54.435Z"
   },
   {
    "duration": 0,
    "start_time": "2024-11-09T05:13:54.436Z"
   },
   {
    "duration": 1082,
    "start_time": "2024-11-09T05:14:23.266Z"
   },
   {
    "duration": 3,
    "start_time": "2024-11-09T05:14:24.350Z"
   },
   {
    "duration": 70,
    "start_time": "2024-11-09T05:14:24.355Z"
   },
   {
    "duration": 41,
    "start_time": "2024-11-09T05:14:24.428Z"
   },
   {
    "duration": 196,
    "start_time": "2024-11-09T05:14:24.471Z"
   },
   {
    "duration": 32,
    "start_time": "2024-11-09T05:14:24.669Z"
   },
   {
    "duration": 40,
    "start_time": "2024-11-09T05:14:24.702Z"
   },
   {
    "duration": 4,
    "start_time": "2024-11-09T05:14:24.744Z"
   },
   {
    "duration": 4,
    "start_time": "2024-11-09T05:14:24.750Z"
   },
   {
    "duration": 4,
    "start_time": "2024-11-09T05:14:24.757Z"
   },
   {
    "duration": 605,
    "start_time": "2024-11-09T05:14:24.762Z"
   },
   {
    "duration": 264,
    "start_time": "2024-11-09T05:14:25.370Z"
   },
   {
    "duration": 92,
    "start_time": "2024-11-09T05:14:25.636Z"
   },
   {
    "duration": 320,
    "start_time": "2024-11-09T05:14:25.731Z"
   },
   {
    "duration": 274,
    "start_time": "2024-11-09T05:14:26.053Z"
   },
   {
    "duration": 2123,
    "start_time": "2024-11-09T05:15:56.469Z"
   },
   {
    "duration": 0,
    "start_time": "2024-11-09T05:15:58.595Z"
   },
   {
    "duration": 0,
    "start_time": "2024-11-09T05:15:58.596Z"
   },
   {
    "duration": 0,
    "start_time": "2024-11-09T05:15:58.597Z"
   },
   {
    "duration": 0,
    "start_time": "2024-11-09T05:15:58.598Z"
   },
   {
    "duration": 0,
    "start_time": "2024-11-09T05:15:58.599Z"
   },
   {
    "duration": 0,
    "start_time": "2024-11-09T05:15:58.600Z"
   },
   {
    "duration": 0,
    "start_time": "2024-11-09T05:15:58.601Z"
   },
   {
    "duration": 0,
    "start_time": "2024-11-09T05:15:58.602Z"
   },
   {
    "duration": 0,
    "start_time": "2024-11-09T05:15:58.603Z"
   },
   {
    "duration": 0,
    "start_time": "2024-11-09T05:15:58.604Z"
   },
   {
    "duration": 0,
    "start_time": "2024-11-09T05:15:58.605Z"
   },
   {
    "duration": 0,
    "start_time": "2024-11-09T05:15:58.695Z"
   },
   {
    "duration": 0,
    "start_time": "2024-11-09T05:15:58.698Z"
   },
   {
    "duration": 0,
    "start_time": "2024-11-09T05:15:58.699Z"
   },
   {
    "duration": 0,
    "start_time": "2024-11-09T05:15:58.700Z"
   },
   {
    "duration": 0,
    "start_time": "2024-11-09T05:15:58.701Z"
   },
   {
    "duration": 0,
    "start_time": "2024-11-09T05:15:58.702Z"
   },
   {
    "duration": 0,
    "start_time": "2024-11-09T05:15:58.723Z"
   },
   {
    "duration": 0,
    "start_time": "2024-11-09T05:15:58.724Z"
   },
   {
    "duration": 0,
    "start_time": "2024-11-09T05:15:58.725Z"
   },
   {
    "duration": 0,
    "start_time": "2024-11-09T05:15:58.726Z"
   },
   {
    "duration": 0,
    "start_time": "2024-11-09T05:15:58.727Z"
   },
   {
    "duration": 0,
    "start_time": "2024-11-09T05:15:58.728Z"
   },
   {
    "duration": 0,
    "start_time": "2024-11-09T05:15:58.729Z"
   },
   {
    "duration": 1360,
    "start_time": "2024-11-09T05:16:16.687Z"
   },
   {
    "duration": 4,
    "start_time": "2024-11-09T05:16:18.051Z"
   },
   {
    "duration": 75,
    "start_time": "2024-11-09T05:16:18.057Z"
   },
   {
    "duration": 46,
    "start_time": "2024-11-09T05:16:18.135Z"
   },
   {
    "duration": 272,
    "start_time": "2024-11-09T05:16:18.183Z"
   },
   {
    "duration": 44,
    "start_time": "2024-11-09T05:16:18.457Z"
   },
   {
    "duration": 34,
    "start_time": "2024-11-09T05:16:18.503Z"
   },
   {
    "duration": 7,
    "start_time": "2024-11-09T05:16:18.539Z"
   },
   {
    "duration": 8,
    "start_time": "2024-11-09T05:16:18.547Z"
   },
   {
    "duration": 6,
    "start_time": "2024-11-09T05:16:18.558Z"
   },
   {
    "duration": 631,
    "start_time": "2024-11-09T05:16:18.565Z"
   },
   {
    "duration": 313,
    "start_time": "2024-11-09T05:16:19.197Z"
   },
   {
    "duration": 105,
    "start_time": "2024-11-09T05:16:19.512Z"
   },
   {
    "duration": 413,
    "start_time": "2024-11-09T05:16:19.625Z"
   },
   {
    "duration": 371,
    "start_time": "2024-11-09T05:16:20.041Z"
   },
   {
    "duration": 2905,
    "start_time": "2024-11-12T02:10:21.738Z"
   },
   {
    "duration": 4,
    "start_time": "2024-11-12T02:10:24.646Z"
   },
   {
    "duration": 53,
    "start_time": "2024-11-12T02:10:24.652Z"
   },
   {
    "duration": 52,
    "start_time": "2024-11-12T02:10:24.708Z"
   },
   {
    "duration": 85,
    "start_time": "2024-11-12T02:10:24.762Z"
   },
   {
    "duration": 35,
    "start_time": "2024-11-12T02:10:24.849Z"
   },
   {
    "duration": 49,
    "start_time": "2024-11-12T02:10:24.886Z"
   },
   {
    "duration": 4,
    "start_time": "2024-11-12T02:10:24.937Z"
   },
   {
    "duration": 4,
    "start_time": "2024-11-12T02:10:24.943Z"
   },
   {
    "duration": 4,
    "start_time": "2024-11-12T02:10:24.950Z"
   },
   {
    "duration": 711,
    "start_time": "2024-11-12T02:10:24.956Z"
   },
   {
    "duration": 265,
    "start_time": "2024-11-12T02:10:25.669Z"
   },
   {
    "duration": 84,
    "start_time": "2024-11-12T02:10:25.938Z"
   },
   {
    "duration": 324,
    "start_time": "2024-11-12T02:10:26.031Z"
   },
   {
    "duration": 209,
    "start_time": "2024-11-12T02:10:26.356Z"
   },
   {
    "duration": 583,
    "start_time": "2024-11-12T02:10:26.567Z"
   },
   {
    "duration": 84,
    "start_time": "2024-11-12T02:10:27.152Z"
   },
   {
    "duration": 18,
    "start_time": "2024-11-12T02:10:27.238Z"
   },
   {
    "duration": 12,
    "start_time": "2024-11-12T02:10:27.258Z"
   },
   {
    "duration": 20,
    "start_time": "2024-11-12T02:10:27.272Z"
   },
   {
    "duration": 4,
    "start_time": "2024-11-12T02:10:27.295Z"
   },
   {
    "duration": 34,
    "start_time": "2024-11-12T02:10:27.301Z"
   },
   {
    "duration": 25,
    "start_time": "2024-11-12T02:10:27.336Z"
   },
   {
    "duration": 1721,
    "start_time": "2024-11-12T02:10:27.363Z"
   },
   {
    "duration": 6,
    "start_time": "2024-11-12T02:10:29.087Z"
   },
   {
    "duration": 2797,
    "start_time": "2024-11-14T21:40:26.594Z"
   },
   {
    "duration": 1007,
    "start_time": "2024-11-15T00:39:29.070Z"
   },
   {
    "duration": 6,
    "start_time": "2024-11-15T00:39:30.079Z"
   },
   {
    "duration": 51,
    "start_time": "2024-11-15T00:39:30.087Z"
   },
   {
    "duration": 36,
    "start_time": "2024-11-15T00:39:30.140Z"
   },
   {
    "duration": 77,
    "start_time": "2024-11-15T00:39:30.177Z"
   },
   {
    "duration": 30,
    "start_time": "2024-11-15T00:39:30.256Z"
   },
   {
    "duration": 39,
    "start_time": "2024-11-15T00:39:30.288Z"
   },
   {
    "duration": 4,
    "start_time": "2024-11-15T00:39:30.328Z"
   },
   {
    "duration": 4,
    "start_time": "2024-11-15T00:39:30.334Z"
   },
   {
    "duration": 4,
    "start_time": "2024-11-15T00:39:30.340Z"
   },
   {
    "duration": 600,
    "start_time": "2024-11-15T00:39:30.345Z"
   },
   {
    "duration": 249,
    "start_time": "2024-11-15T00:39:30.947Z"
   },
   {
    "duration": 83,
    "start_time": "2024-11-15T00:39:31.198Z"
   },
   {
    "duration": 306,
    "start_time": "2024-11-15T00:39:31.283Z"
   },
   {
    "duration": 273,
    "start_time": "2024-11-15T00:39:31.591Z"
   },
   {
    "duration": 471,
    "start_time": "2024-11-15T00:39:31.865Z"
   },
   {
    "duration": 73,
    "start_time": "2024-11-15T00:39:32.338Z"
   },
   {
    "duration": 16,
    "start_time": "2024-11-15T00:39:32.413Z"
   },
   {
    "duration": 4,
    "start_time": "2024-11-15T00:39:32.431Z"
   },
   {
    "duration": 11,
    "start_time": "2024-11-15T00:39:32.436Z"
   },
   {
    "duration": 24,
    "start_time": "2024-11-15T00:39:32.449Z"
   },
   {
    "duration": 1685,
    "start_time": "2024-11-15T00:39:32.475Z"
   },
   {
    "duration": 8,
    "start_time": "2024-11-15T00:39:34.163Z"
   },
   {
    "duration": 3,
    "start_time": "2024-11-15T00:47:33.139Z"
   },
   {
    "duration": 945,
    "start_time": "2024-11-15T00:47:47.831Z"
   },
   {
    "duration": 22,
    "start_time": "2024-11-15T00:48:26.150Z"
   },
   {
    "duration": 9335,
    "start_time": "2024-11-15T00:49:43.925Z"
   },
   {
    "duration": 19,
    "start_time": "2024-11-15T00:50:00.934Z"
   },
   {
    "duration": 1346,
    "start_time": "2024-11-15T00:50:09.515Z"
   },
   {
    "duration": 1258,
    "start_time": "2024-11-15T00:50:35.713Z"
   },
   {
    "duration": 0,
    "start_time": "2024-11-15T00:50:36.973Z"
   },
   {
    "duration": 0,
    "start_time": "2024-11-15T00:50:36.974Z"
   },
   {
    "duration": 0,
    "start_time": "2024-11-15T00:50:36.975Z"
   },
   {
    "duration": 0,
    "start_time": "2024-11-15T00:50:36.976Z"
   },
   {
    "duration": 0,
    "start_time": "2024-11-15T00:50:36.977Z"
   },
   {
    "duration": 0,
    "start_time": "2024-11-15T00:50:36.978Z"
   },
   {
    "duration": 0,
    "start_time": "2024-11-15T00:50:36.979Z"
   },
   {
    "duration": 0,
    "start_time": "2024-11-15T00:50:36.980Z"
   },
   {
    "duration": 0,
    "start_time": "2024-11-15T00:50:36.981Z"
   },
   {
    "duration": 0,
    "start_time": "2024-11-15T00:50:36.982Z"
   },
   {
    "duration": 0,
    "start_time": "2024-11-15T00:50:36.983Z"
   },
   {
    "duration": 0,
    "start_time": "2024-11-15T00:50:36.984Z"
   },
   {
    "duration": 0,
    "start_time": "2024-11-15T00:50:36.985Z"
   },
   {
    "duration": 0,
    "start_time": "2024-11-15T00:50:36.986Z"
   },
   {
    "duration": 0,
    "start_time": "2024-11-15T00:50:37.009Z"
   },
   {
    "duration": 0,
    "start_time": "2024-11-15T00:50:37.010Z"
   },
   {
    "duration": 0,
    "start_time": "2024-11-15T00:50:37.011Z"
   },
   {
    "duration": 0,
    "start_time": "2024-11-15T00:50:37.012Z"
   },
   {
    "duration": 0,
    "start_time": "2024-11-15T00:50:37.013Z"
   },
   {
    "duration": 0,
    "start_time": "2024-11-15T00:50:37.014Z"
   },
   {
    "duration": 0,
    "start_time": "2024-11-15T00:50:37.017Z"
   },
   {
    "duration": 0,
    "start_time": "2024-11-15T00:50:37.018Z"
   },
   {
    "duration": 0,
    "start_time": "2024-11-15T00:50:37.019Z"
   },
   {
    "duration": 1343,
    "start_time": "2024-11-15T00:50:58.027Z"
   },
   {
    "duration": 1236,
    "start_time": "2024-11-15T00:53:41.315Z"
   },
   {
    "duration": 39,
    "start_time": "2024-11-15T00:54:38.196Z"
   },
   {
    "duration": 22,
    "start_time": "2024-11-15T00:54:48.997Z"
   },
   {
    "duration": 13,
    "start_time": "2024-11-15T00:55:48.646Z"
   },
   {
    "duration": 158,
    "start_time": "2024-11-15T00:55:58.091Z"
   },
   {
    "duration": 11,
    "start_time": "2024-11-15T00:56:13.581Z"
   },
   {
    "duration": 17,
    "start_time": "2024-11-15T00:56:22.575Z"
   },
   {
    "duration": 11,
    "start_time": "2024-11-15T00:56:43.834Z"
   },
   {
    "duration": 1387,
    "start_time": "2024-11-15T00:56:55.968Z"
   },
   {
    "duration": 1087,
    "start_time": "2024-11-15T00:57:22.059Z"
   },
   {
    "duration": 1207,
    "start_time": "2024-11-15T00:57:32.645Z"
   },
   {
    "duration": 1357,
    "start_time": "2024-11-15T00:57:37.389Z"
   },
   {
    "duration": 19,
    "start_time": "2024-11-15T00:58:09.838Z"
   },
   {
    "duration": 34,
    "start_time": "2024-11-15T00:58:34.794Z"
   },
   {
    "duration": 976,
    "start_time": "2024-11-15T00:58:40.278Z"
   },
   {
    "duration": 4,
    "start_time": "2024-11-15T00:58:41.256Z"
   },
   {
    "duration": 59,
    "start_time": "2024-11-15T00:58:41.262Z"
   },
   {
    "duration": 34,
    "start_time": "2024-11-15T00:58:41.324Z"
   },
   {
    "duration": 86,
    "start_time": "2024-11-15T00:58:41.360Z"
   },
   {
    "duration": 31,
    "start_time": "2024-11-15T00:58:41.448Z"
   },
   {
    "duration": 43,
    "start_time": "2024-11-15T00:58:41.481Z"
   },
   {
    "duration": 4,
    "start_time": "2024-11-15T00:58:41.525Z"
   },
   {
    "duration": 16,
    "start_time": "2024-11-15T00:58:41.531Z"
   },
   {
    "duration": 17,
    "start_time": "2024-11-15T00:58:41.551Z"
   },
   {
    "duration": 572,
    "start_time": "2024-11-15T00:58:41.570Z"
   },
   {
    "duration": 249,
    "start_time": "2024-11-15T00:58:42.143Z"
   },
   {
    "duration": 90,
    "start_time": "2024-11-15T00:58:42.394Z"
   },
   {
    "duration": 305,
    "start_time": "2024-11-15T00:58:42.486Z"
   },
   {
    "duration": 270,
    "start_time": "2024-11-15T00:58:42.793Z"
   },
   {
    "duration": 469,
    "start_time": "2024-11-15T00:58:43.065Z"
   },
   {
    "duration": 80,
    "start_time": "2024-11-15T00:58:43.537Z"
   },
   {
    "duration": 17,
    "start_time": "2024-11-15T00:58:43.618Z"
   },
   {
    "duration": 4,
    "start_time": "2024-11-15T00:58:43.637Z"
   },
   {
    "duration": 11,
    "start_time": "2024-11-15T00:58:43.642Z"
   },
   {
    "duration": 23,
    "start_time": "2024-11-15T00:58:43.655Z"
   },
   {
    "duration": 1666,
    "start_time": "2024-11-15T00:58:43.679Z"
   },
   {
    "duration": 8,
    "start_time": "2024-11-15T00:58:45.347Z"
   },
   {
    "duration": 32,
    "start_time": "2024-11-15T00:58:45.356Z"
   },
   {
    "duration": 28,
    "start_time": "2024-11-15T00:59:27.073Z"
   },
   {
    "duration": 20,
    "start_time": "2024-11-15T00:59:52.068Z"
   },
   {
    "duration": 232,
    "start_time": "2024-11-15T01:00:31.637Z"
   },
   {
    "duration": 20,
    "start_time": "2024-11-15T01:01:46.046Z"
   },
   {
    "duration": 13,
    "start_time": "2024-11-15T01:02:11.607Z"
   },
   {
    "duration": 14,
    "start_time": "2024-11-15T01:02:28.051Z"
   },
   {
    "duration": 34,
    "start_time": "2024-11-15T01:03:44.001Z"
   },
   {
    "duration": 28,
    "start_time": "2024-11-15T01:04:07.777Z"
   },
   {
    "duration": 419,
    "start_time": "2024-11-15T01:04:33.619Z"
   },
   {
    "duration": 418,
    "start_time": "2024-11-15T01:04:48.530Z"
   },
   {
    "duration": 413,
    "start_time": "2024-11-15T01:04:54.836Z"
   },
   {
    "duration": 366,
    "start_time": "2024-11-15T01:07:56.853Z"
   },
   {
    "duration": 2140,
    "start_time": "2024-11-15T01:08:18.825Z"
   },
   {
    "duration": 220,
    "start_time": "2024-11-15T01:09:03.201Z"
   },
   {
    "duration": 915,
    "start_time": "2024-11-15T01:09:29.374Z"
   },
   {
    "duration": 1023,
    "start_time": "2024-11-15T01:10:49.934Z"
   },
   {
    "duration": 4,
    "start_time": "2024-11-15T01:10:50.959Z"
   },
   {
    "duration": 50,
    "start_time": "2024-11-15T01:10:50.965Z"
   },
   {
    "duration": 34,
    "start_time": "2024-11-15T01:10:51.018Z"
   },
   {
    "duration": 75,
    "start_time": "2024-11-15T01:10:51.055Z"
   },
   {
    "duration": 29,
    "start_time": "2024-11-15T01:10:51.132Z"
   },
   {
    "duration": 47,
    "start_time": "2024-11-15T01:10:51.162Z"
   },
   {
    "duration": 4,
    "start_time": "2024-11-15T01:10:51.210Z"
   },
   {
    "duration": 4,
    "start_time": "2024-11-15T01:10:51.216Z"
   },
   {
    "duration": 4,
    "start_time": "2024-11-15T01:10:51.222Z"
   },
   {
    "duration": 619,
    "start_time": "2024-11-15T01:10:51.228Z"
   },
   {
    "duration": 244,
    "start_time": "2024-11-15T01:10:51.850Z"
   },
   {
    "duration": 87,
    "start_time": "2024-11-15T01:10:52.096Z"
   },
   {
    "duration": 296,
    "start_time": "2024-11-15T01:10:52.185Z"
   },
   {
    "duration": 267,
    "start_time": "2024-11-15T01:10:52.483Z"
   },
   {
    "duration": 479,
    "start_time": "2024-11-15T01:10:52.752Z"
   },
   {
    "duration": 77,
    "start_time": "2024-11-15T01:10:53.233Z"
   },
   {
    "duration": 16,
    "start_time": "2024-11-15T01:10:53.312Z"
   },
   {
    "duration": 4,
    "start_time": "2024-11-15T01:10:53.329Z"
   },
   {
    "duration": 12,
    "start_time": "2024-11-15T01:10:53.334Z"
   },
   {
    "duration": 25,
    "start_time": "2024-11-15T01:10:53.347Z"
   },
   {
    "duration": 1600,
    "start_time": "2024-11-15T01:10:53.373Z"
   },
   {
    "duration": 8,
    "start_time": "2024-11-15T01:10:54.974Z"
   },
   {
    "duration": 46,
    "start_time": "2024-11-15T01:10:54.984Z"
   },
   {
    "duration": 22,
    "start_time": "2024-11-15T01:10:55.032Z"
   },
   {
    "duration": 167,
    "start_time": "2024-11-15T01:10:55.055Z"
   },
   {
    "duration": 71,
    "start_time": "2024-11-15T01:38:50.038Z"
   },
   {
    "duration": 243,
    "start_time": "2024-11-15T01:47:26.509Z"
   },
   {
    "duration": 41,
    "start_time": "2024-11-15T01:48:03.280Z"
   },
   {
    "duration": 57,
    "start_time": "2024-11-15T01:48:16.654Z"
   },
   {
    "duration": 34,
    "start_time": "2024-11-15T01:52:19.734Z"
   },
   {
    "duration": 30,
    "start_time": "2024-11-15T01:54:14.119Z"
   },
   {
    "duration": 1054,
    "start_time": "2024-11-15T01:54:23.017Z"
   },
   {
    "duration": 4,
    "start_time": "2024-11-15T01:54:24.073Z"
   },
   {
    "duration": 49,
    "start_time": "2024-11-15T01:54:24.079Z"
   },
   {
    "duration": 36,
    "start_time": "2024-11-15T01:54:24.129Z"
   },
   {
    "duration": 79,
    "start_time": "2024-11-15T01:54:24.168Z"
   },
   {
    "duration": 31,
    "start_time": "2024-11-15T01:54:24.249Z"
   },
   {
    "duration": 46,
    "start_time": "2024-11-15T01:54:24.282Z"
   },
   {
    "duration": 4,
    "start_time": "2024-11-15T01:54:24.330Z"
   },
   {
    "duration": 4,
    "start_time": "2024-11-15T01:54:24.336Z"
   },
   {
    "duration": 5,
    "start_time": "2024-11-15T01:54:24.341Z"
   },
   {
    "duration": 599,
    "start_time": "2024-11-15T01:54:24.348Z"
   },
   {
    "duration": 253,
    "start_time": "2024-11-15T01:54:24.949Z"
   },
   {
    "duration": 79,
    "start_time": "2024-11-15T01:54:25.208Z"
   },
   {
    "duration": 340,
    "start_time": "2024-11-15T01:54:25.291Z"
   },
   {
    "duration": 279,
    "start_time": "2024-11-15T01:54:25.633Z"
   },
   {
    "duration": 461,
    "start_time": "2024-11-15T01:54:25.914Z"
   },
   {
    "duration": 82,
    "start_time": "2024-11-15T01:54:26.377Z"
   },
   {
    "duration": 16,
    "start_time": "2024-11-15T01:54:26.461Z"
   },
   {
    "duration": 4,
    "start_time": "2024-11-15T01:54:26.479Z"
   },
   {
    "duration": 28,
    "start_time": "2024-11-15T01:54:26.485Z"
   },
   {
    "duration": 24,
    "start_time": "2024-11-15T01:54:26.515Z"
   },
   {
    "duration": 1670,
    "start_time": "2024-11-15T01:54:26.541Z"
   },
   {
    "duration": 8,
    "start_time": "2024-11-15T01:54:28.213Z"
   },
   {
    "duration": 31,
    "start_time": "2024-11-15T01:54:28.224Z"
   },
   {
    "duration": 59,
    "start_time": "2024-11-15T01:54:28.257Z"
   },
   {
    "duration": 106,
    "start_time": "2024-11-15T01:54:28.320Z"
   },
   {
    "duration": 981,
    "start_time": "2024-11-15T02:12:11.876Z"
   },
   {
    "duration": 4,
    "start_time": "2024-11-15T02:12:12.859Z"
   },
   {
    "duration": 50,
    "start_time": "2024-11-15T02:12:12.865Z"
   },
   {
    "duration": 36,
    "start_time": "2024-11-15T02:12:12.916Z"
   },
   {
    "duration": 80,
    "start_time": "2024-11-15T02:12:12.954Z"
   },
   {
    "duration": 30,
    "start_time": "2024-11-15T02:12:13.035Z"
   },
   {
    "duration": 47,
    "start_time": "2024-11-15T02:12:13.067Z"
   },
   {
    "duration": 4,
    "start_time": "2024-11-15T02:12:13.116Z"
   },
   {
    "duration": 5,
    "start_time": "2024-11-15T02:12:13.121Z"
   },
   {
    "duration": 4,
    "start_time": "2024-11-15T02:12:13.127Z"
   },
   {
    "duration": 609,
    "start_time": "2024-11-15T02:12:13.132Z"
   },
   {
    "duration": 250,
    "start_time": "2024-11-15T02:12:13.742Z"
   },
   {
    "duration": 91,
    "start_time": "2024-11-15T02:12:13.993Z"
   },
   {
    "duration": 302,
    "start_time": "2024-11-15T02:12:14.087Z"
   },
   {
    "duration": 267,
    "start_time": "2024-11-15T02:12:14.390Z"
   },
   {
    "duration": 481,
    "start_time": "2024-11-15T02:12:14.659Z"
   },
   {
    "duration": 78,
    "start_time": "2024-11-15T02:12:15.142Z"
   },
   {
    "duration": 16,
    "start_time": "2024-11-15T02:12:15.222Z"
   },
   {
    "duration": 4,
    "start_time": "2024-11-15T02:12:15.239Z"
   },
   {
    "duration": 15,
    "start_time": "2024-11-15T02:12:15.244Z"
   },
   {
    "duration": 49,
    "start_time": "2024-11-15T02:12:15.261Z"
   },
   {
    "duration": 1667,
    "start_time": "2024-11-15T02:12:15.312Z"
   },
   {
    "duration": 7,
    "start_time": "2024-11-15T02:12:16.982Z"
   },
   {
    "duration": 46,
    "start_time": "2024-11-15T02:12:16.991Z"
   },
   {
    "duration": 22,
    "start_time": "2024-11-15T02:12:17.039Z"
   },
   {
    "duration": 156,
    "start_time": "2024-11-15T02:12:17.063Z"
   },
   {
    "duration": 2868,
    "start_time": "2024-11-18T18:09:19.133Z"
   },
   {
    "duration": 4,
    "start_time": "2024-11-18T18:09:22.003Z"
   },
   {
    "duration": 53,
    "start_time": "2024-11-18T18:09:22.008Z"
   },
   {
    "duration": 57,
    "start_time": "2024-11-18T18:09:22.063Z"
   },
   {
    "duration": 58,
    "start_time": "2024-11-18T18:09:22.123Z"
   },
   {
    "duration": 58,
    "start_time": "2024-11-18T18:09:22.182Z"
   },
   {
    "duration": 22,
    "start_time": "2024-11-18T18:09:22.243Z"
   },
   {
    "duration": 4,
    "start_time": "2024-11-18T18:09:22.267Z"
   },
   {
    "duration": 4,
    "start_time": "2024-11-18T18:09:22.273Z"
   },
   {
    "duration": 33,
    "start_time": "2024-11-18T18:09:22.279Z"
   },
   {
    "duration": 734,
    "start_time": "2024-11-18T18:09:22.314Z"
   },
   {
    "duration": 282,
    "start_time": "2024-11-18T18:09:23.050Z"
   },
   {
    "duration": 90,
    "start_time": "2024-11-18T18:09:23.333Z"
   },
   {
    "duration": 321,
    "start_time": "2024-11-18T18:09:23.426Z"
   },
   {
    "duration": 219,
    "start_time": "2024-11-18T18:09:23.749Z"
   },
   {
    "duration": 489,
    "start_time": "2024-11-18T18:09:23.970Z"
   },
   {
    "duration": 156,
    "start_time": "2024-11-18T18:09:24.461Z"
   },
   {
    "duration": 17,
    "start_time": "2024-11-18T18:09:24.620Z"
   },
   {
    "duration": 4,
    "start_time": "2024-11-18T18:09:24.638Z"
   },
   {
    "duration": 11,
    "start_time": "2024-11-18T18:09:24.644Z"
   },
   {
    "duration": 24,
    "start_time": "2024-11-18T18:09:24.657Z"
   },
   {
    "duration": 1661,
    "start_time": "2024-11-18T18:09:24.683Z"
   },
   {
    "duration": 10,
    "start_time": "2024-11-18T18:09:26.347Z"
   },
   {
    "duration": 54,
    "start_time": "2024-11-18T18:09:26.360Z"
   },
   {
    "duration": 32,
    "start_time": "2024-11-18T18:09:26.416Z"
   },
   {
    "duration": 162,
    "start_time": "2024-11-18T18:09:26.450Z"
   }
  ],
  "kernelspec": {
   "display_name": "Python 3",
   "language": "python",
   "name": "python3"
  },
  "language_info": {
   "codemirror_mode": {
    "name": "ipython",
    "version": 3
   },
   "file_extension": ".py",
   "mimetype": "text/x-python",
   "name": "python",
   "nbconvert_exporter": "python",
   "pygments_lexer": "ipython3",
   "version": "3.11.9"
  },
  "toc": {
   "base_numbering": 1,
   "nav_menu": {},
   "number_sections": true,
   "sideBar": true,
   "skip_h1_title": true,
   "title_cell": "Table of Contents",
   "title_sidebar": "Contents",
   "toc_cell": false,
   "toc_position": {
    "height": "calc(100% - 180px)",
    "left": "10px",
    "top": "150px",
    "width": "165px"
   },
   "toc_section_display": true,
   "toc_window_display": true
  }
 },
 "nbformat": 4,
 "nbformat_minor": 2
}
